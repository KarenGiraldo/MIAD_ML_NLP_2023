{
 "cells": [
  {
   "cell_type": "markdown",
   "metadata": {},
   "source": [
    "![image info](https://raw.githubusercontent.com/albahnsen/MIAD_ML_and_NLP/main/images/banner_1.png)"
   ]
  },
  {
   "cell_type": "markdown",
   "metadata": {},
   "source": [
    "# Taller: Construcción e implementación de árboles de decisión y métodos de ensamblaje\n",
    "\n",
    "En este taller podrá poner en práctica los sus conocimientos sobre construcción e implementación de árboles de decisión y métodos de ensamblajes. El taller está constituido por 9 puntos, 5 relacionados con árboles de decisión (parte A) y 4 con métodos de ensamblaje (parte B)."
   ]
  },
  {
   "cell_type": "markdown",
   "metadata": {},
   "source": [
    "## Parte A - Árboles de decisión\n",
    "\n",
    "En esta parte del taller se usará el conjunto de datos de Capital Bikeshare de Kaggle, donde cada observación representa el alquiler de bicicletas durante una hora y día determinado. Para más detalles puede visitar los siguientes enlaces: [datos](https://archive.ics.uci.edu/ml/machine-learning-databases/00275/Bike-Sharing-Dataset.zip), [dicccionario de datos](https://archive.ics.uci.edu/ml/datasets/Bike+Sharing+Dataset#)."
   ]
  },
  {
   "cell_type": "markdown",
   "metadata": {},
   "source": [
    "### Datos prestamo de bicicletas"
   ]
  },
  {
   "cell_type": "code",
   "execution_count": 1,
   "metadata": {},
   "outputs": [],
   "source": [
    "import warnings\n",
    "warnings.filterwarnings('ignore')"
   ]
  },
  {
   "cell_type": "code",
   "execution_count": 2,
   "metadata": {},
   "outputs": [],
   "source": [
    "# Importación de librerías\n",
    "%matplotlib inline\n",
    "import pandas as pd\n",
    "import numpy as np\n",
    "from sklearn.model_selection import cross_val_score\n",
    "from sklearn.linear_model import LinearRegression\n",
    "from sklearn.tree import DecisionTreeRegressor, export_graphviz"
   ]
  },
  {
   "cell_type": "code",
   "execution_count": 3,
   "metadata": {},
   "outputs": [
    {
     "data": {
      "text/html": [
       "<div>\n",
       "<style scoped>\n",
       "    .dataframe tbody tr th:only-of-type {\n",
       "        vertical-align: middle;\n",
       "    }\n",
       "\n",
       "    .dataframe tbody tr th {\n",
       "        vertical-align: top;\n",
       "    }\n",
       "\n",
       "    .dataframe thead th {\n",
       "        text-align: right;\n",
       "    }\n",
       "</style>\n",
       "<table border=\"1\" class=\"dataframe\">\n",
       "  <thead>\n",
       "    <tr style=\"text-align: right;\">\n",
       "      <th></th>\n",
       "      <th>season</th>\n",
       "      <th>holiday</th>\n",
       "      <th>workingday</th>\n",
       "      <th>weather</th>\n",
       "      <th>temp</th>\n",
       "      <th>atemp</th>\n",
       "      <th>humidity</th>\n",
       "      <th>windspeed</th>\n",
       "      <th>casual</th>\n",
       "      <th>registered</th>\n",
       "      <th>total</th>\n",
       "      <th>hour</th>\n",
       "    </tr>\n",
       "    <tr>\n",
       "      <th>datetime</th>\n",
       "      <th></th>\n",
       "      <th></th>\n",
       "      <th></th>\n",
       "      <th></th>\n",
       "      <th></th>\n",
       "      <th></th>\n",
       "      <th></th>\n",
       "      <th></th>\n",
       "      <th></th>\n",
       "      <th></th>\n",
       "      <th></th>\n",
       "      <th></th>\n",
       "    </tr>\n",
       "  </thead>\n",
       "  <tbody>\n",
       "    <tr>\n",
       "      <th>2011-01-01 00:00:00</th>\n",
       "      <td>1</td>\n",
       "      <td>0</td>\n",
       "      <td>0</td>\n",
       "      <td>1</td>\n",
       "      <td>9.84</td>\n",
       "      <td>14.395</td>\n",
       "      <td>81</td>\n",
       "      <td>0.0</td>\n",
       "      <td>3</td>\n",
       "      <td>13</td>\n",
       "      <td>16</td>\n",
       "      <td>0</td>\n",
       "    </tr>\n",
       "    <tr>\n",
       "      <th>2011-01-01 01:00:00</th>\n",
       "      <td>1</td>\n",
       "      <td>0</td>\n",
       "      <td>0</td>\n",
       "      <td>1</td>\n",
       "      <td>9.02</td>\n",
       "      <td>13.635</td>\n",
       "      <td>80</td>\n",
       "      <td>0.0</td>\n",
       "      <td>8</td>\n",
       "      <td>32</td>\n",
       "      <td>40</td>\n",
       "      <td>1</td>\n",
       "    </tr>\n",
       "    <tr>\n",
       "      <th>2011-01-01 02:00:00</th>\n",
       "      <td>1</td>\n",
       "      <td>0</td>\n",
       "      <td>0</td>\n",
       "      <td>1</td>\n",
       "      <td>9.02</td>\n",
       "      <td>13.635</td>\n",
       "      <td>80</td>\n",
       "      <td>0.0</td>\n",
       "      <td>5</td>\n",
       "      <td>27</td>\n",
       "      <td>32</td>\n",
       "      <td>2</td>\n",
       "    </tr>\n",
       "    <tr>\n",
       "      <th>2011-01-01 03:00:00</th>\n",
       "      <td>1</td>\n",
       "      <td>0</td>\n",
       "      <td>0</td>\n",
       "      <td>1</td>\n",
       "      <td>9.84</td>\n",
       "      <td>14.395</td>\n",
       "      <td>75</td>\n",
       "      <td>0.0</td>\n",
       "      <td>3</td>\n",
       "      <td>10</td>\n",
       "      <td>13</td>\n",
       "      <td>3</td>\n",
       "    </tr>\n",
       "    <tr>\n",
       "      <th>2011-01-01 04:00:00</th>\n",
       "      <td>1</td>\n",
       "      <td>0</td>\n",
       "      <td>0</td>\n",
       "      <td>1</td>\n",
       "      <td>9.84</td>\n",
       "      <td>14.395</td>\n",
       "      <td>75</td>\n",
       "      <td>0.0</td>\n",
       "      <td>0</td>\n",
       "      <td>1</td>\n",
       "      <td>1</td>\n",
       "      <td>4</td>\n",
       "    </tr>\n",
       "  </tbody>\n",
       "</table>\n",
       "</div>"
      ],
      "text/plain": [
       "                     season  holiday  workingday  ...  registered  total  hour\n",
       "datetime                                          ...                         \n",
       "2011-01-01 00:00:00       1        0           0  ...          13     16     0\n",
       "2011-01-01 01:00:00       1        0           0  ...          32     40     1\n",
       "2011-01-01 02:00:00       1        0           0  ...          27     32     2\n",
       "2011-01-01 03:00:00       1        0           0  ...          10     13     3\n",
       "2011-01-01 04:00:00       1        0           0  ...           1      1     4\n",
       "\n",
       "[5 rows x 12 columns]"
      ]
     },
     "execution_count": 3,
     "metadata": {},
     "output_type": "execute_result"
    }
   ],
   "source": [
    "# Lectura de la información de archivo .csv\n",
    "bikes = pd.read_csv('https://raw.githubusercontent.com/davidzarruk/MIAD_ML_NLP_2023/main/datasets/bikeshare.csv', index_col='datetime', parse_dates=True)\n",
    "\n",
    "# Renombrar variable \"count\" a \"total\"\n",
    "bikes.rename(columns={'count':'total'}, inplace=True)\n",
    "\n",
    "# Crear la hora como una variable \n",
    "bikes['hour'] = bikes.index.hour\n",
    "\n",
    "# Visualización de los datos\n",
    "bikes.head()"
   ]
  },
  {
   "cell_type": "markdown",
   "metadata": {},
   "source": [
    "### Punto 1 - Análisis descriptivo\n",
    "\n",
    "Ejecute las celdas 1.1 y 1.2. A partir de los resultados realice un análisis descriptivo sobre las variables \"season\" y \"hour\", escriba sus inferencias sobre los datos. Para complementar su análisis puede usar métricas como máximo, mínimo, percentiles entre otros."
   ]
  },
  {
   "cell_type": "code",
   "execution_count": 4,
   "metadata": {
    "scrolled": true
   },
   "outputs": [
    {
     "data": {
      "text/plain": [
       "season\n",
       "1    116.343261\n",
       "2    215.251372\n",
       "3    234.417124\n",
       "4    198.988296\n",
       "Name: total, dtype: float64"
      ]
     },
     "execution_count": 4,
     "metadata": {},
     "output_type": "execute_result"
    }
   ],
   "source": [
    "# Celda 1.1\n",
    "bikes.groupby('season').total.mean()"
   ]
  },
  {
   "cell_type": "code",
   "execution_count": 5,
   "metadata": {},
   "outputs": [
    {
     "data": {
      "text/plain": [
       "234.417124039517"
      ]
     },
     "execution_count": 5,
     "metadata": {},
     "output_type": "execute_result"
    }
   ],
   "source": [
    "max(bikes.groupby('season').total.mean())"
   ]
  },
  {
   "cell_type": "markdown",
   "metadata": {},
   "source": [
    "Se puede observar que la variable \"season\" tiene cuatro categorías (1:invierno, 2:primavera, 3:verano, 4:otoño), con lo anterior se puede decir que para invierno el promedio de bicicletas alquiladas es de 116 siendo la demanda más baja en alquiler debido a las bajas temperaturas, para primavera es promedio de alquiler de bicicletas es de 215, para verano el promedio es de 234 bicicletas alquiladas siendo la demanda más alta seguida con primavera y para otoño el promedio es de 198, se puede concluir que las estaciones de clima cálido  permiten utilizar la bicicleta con más facilidad."
   ]
  },
  {
   "cell_type": "code",
   "execution_count": 6,
   "metadata": {
    "scrolled": true
   },
   "outputs": [
    {
     "data": {
      "text/plain": [
       "hour\n",
       "0      55.138462\n",
       "1      33.859031\n",
       "2      22.899554\n",
       "3      11.757506\n",
       "4       6.407240\n",
       "5      19.767699\n",
       "6      76.259341\n",
       "7     213.116484\n",
       "8     362.769231\n",
       "9     221.780220\n",
       "10    175.092308\n",
       "11    210.674725\n",
       "12    256.508772\n",
       "13    257.787281\n",
       "14    243.442982\n",
       "15    254.298246\n",
       "16    316.372807\n",
       "17    468.765351\n",
       "18    430.859649\n",
       "19    315.278509\n",
       "20    228.517544\n",
       "21    173.370614\n",
       "22    133.576754\n",
       "23     89.508772\n",
       "Name: total, dtype: float64"
      ]
     },
     "execution_count": 6,
     "metadata": {},
     "output_type": "execute_result"
    }
   ],
   "source": [
    "# Celda 1.2\n",
    "bikes.groupby('hour').total.mean()"
   ]
  },
  {
   "cell_type": "code",
   "execution_count": 7,
   "metadata": {},
   "outputs": [
    {
     "data": {
      "text/plain": [
       "234.417124039517"
      ]
     },
     "execution_count": 7,
     "metadata": {},
     "output_type": "execute_result"
    }
   ],
   "source": [
    "max(bikes.groupby('season').total.mean())"
   ]
  },
  {
   "cell_type": "markdown",
   "metadata": {},
   "source": [
    "Se puede observar que las horas donde menos se presenta el alquiler de bicicletas es en la madrugada, ya para las 8 am se presenta un incremento significativo esto se puede decir que es por el inicio de jornadas laborales u otras actividades, el segundo aumento significativo se presenta a las 17 horas esto también se puede ver relacionado con el desplazamiento a casa por el fin de jornada laboral. De igual forma durante las 8 am hasta las casi 21 horas se puede ver un uso constante de las bicicletas. "
   ]
  },
  {
   "cell_type": "markdown",
   "metadata": {},
   "source": [
    "Con lo anterior se puede observar como las estaciones del año y las horas del día pueden afectar el comportamiento en el alquiler de bicicletas."
   ]
  },
  {
   "cell_type": "markdown",
   "metadata": {},
   "source": [
    "### Punto 2 - Análisis de gráficos\n",
    "\n",
    "Primero ejecute la celda 2.1 y asegúrese de comprender el código y el resultado. Luego, en cada una de celdas 2.2 y 2.3 escriba un código que genere una gráfica del número de bicicletas rentadas promedio para cada valor de la variable \"hour\" (hora) cuando la variable \"season\" es igual a 1 (invierno) e igual a 3 (verano), respectivamente. Analice y escriba sus hallazgos."
   ]
  },
  {
   "cell_type": "code",
   "execution_count": 8,
   "metadata": {},
   "outputs": [
    {
     "data": {
      "text/plain": [
       "<Axes: xlabel='hour'>"
      ]
     },
     "execution_count": 8,
     "metadata": {},
     "output_type": "execute_result"
    },
    {
     "data": {
      "image/png": "[encoded data removed]",
      "text/plain": [
       "<Figure size 432x288 with 1 Axes>"
      ]
     },
     "metadata": {},
     "output_type": "display_data"
    }
   ],
   "source": [
    "# Celda 2.1 - rentas promedio para cada valor de la variable \"hour\"\n",
    "bikes.groupby('hour').total.mean().plot()"
   ]
  },
  {
   "cell_type": "code",
   "execution_count": 9,
   "metadata": {},
   "outputs": [
    {
     "data": {
      "image/png": "[encoded data removed]",
      "text/plain": [
       "<Figure size 432x288 with 1 Axes>"
      ]
     },
     "metadata": {},
     "output_type": "display_data"
    }
   ],
   "source": [
    "# Celda 2.2 - \"season\"=1 escriba su código y hallazgos \n",
    "bikes_1 = bikes[bikes['season'] == 1]\n",
    "agrupado_hora_1 = bikes_1.groupby('hour').mean().reset_index()\n",
    "\n",
    "plt.plot(agrupado_hora_1['hour'], agrupado_hora_1['total'], marker='o', linestyle='-')\n",
    "plt.title('Promedio de bicicletas alquiladas por hora del día - Invierno')\n",
    "plt.xlabel('Hora')\n",
    "plt.ylabel('Promedio de bicicletas alquiladas')\n",
    "plt.xticks(agrupado_hora_1['hour'])\n",
    "plt.grid(True, which='major', linestyle='--', linewidth=0.2)\n",
    "plt.show()"
   ]
  },
  {
   "cell_type": "markdown",
   "metadata": {},
   "source": [
    "Se puede observar que el alquiler de bicicletas es más bajo comparado con la gráfica donde se puede ver la distribución general del alquiler, esto se puede atribuir a la influencia que puede tener el clima en la utilización de las bicicletas, aunque el aumento de alquiler se puede ver en horarios específicos como son 8 am y 17 pm eso puede estar relacionado con horarios de jornada laboral."
   ]
  },
  {
   "cell_type": "code",
   "execution_count": 10,
   "metadata": {},
   "outputs": [
    {
     "data": {
      "image/png": "[encoded data removed]",
      "text/plain": [
       "<Figure size 432x288 with 1 Axes>"
      ]
     },
     "metadata": {},
     "output_type": "display_data"
    }
   ],
   "source": [
    "# Celda 2.3 - \"season\"=3 escriba su código y hallazgos \n",
    "bikes_3 = bikes[bikes['season'] == 3]\n",
    "agrupado_hora_3 = bikes_3.groupby('hour').mean().reset_index()\n",
    "\n",
    "plt.plot(agrupado_hora_3['hour'], agrupado_hora_3['total'], marker='o', linestyle='-', color = 'yellow')\n",
    "plt.title('Promedio de bicicletas alquiladas por hora del día - Verano')\n",
    "plt.xlabel('Hora')\n",
    "plt.ylabel('Promedio de bicicletas alquiladas')\n",
    "plt.xticks(agrupado_hora_3['hour'])\n",
    "plt.grid(True, which='major', linestyle='--', linewidth=0.2)\n",
    "plt.show()"
   ]
  },
  {
   "cell_type": "markdown",
   "metadata": {},
   "source": [
    "Se puede observar que en comparación la distribución del alquiler de bicicletas para la temporada de invierno la demanda es más alta, un claro efecto del clima, así mismo, se puede observar que se mantienen los picos de alquiler en las 8 am y 17pm atribuyendo esto a desplazamiento en jornada laboral."
   ]
  },
  {
   "cell_type": "markdown",
   "metadata": {},
   "source": [
    "**Hallazgos:**\n",
    "* Se pudo observar que el clima tiene un impacto en el alquiler de bicicletas.\n",
    "* Para cada una de las estaciones y a nivel general se puede observar un patrón diario en cuanto a la hora en la que se realiza el alquiler, esto debido a jornadas laborales.\n",
    "* Se puede observar la relación que tiene el clima con el uso del alquiler de bicicletas."
   ]
  },
  {
   "cell_type": "markdown",
   "metadata": {},
   "source": [
    "### Punto 3 - Regresión lineal\n",
    "En la celda 3 ajuste un modelo de regresión lineal a todo el conjunto de datos, utilizando \"total\" como variable de respuesta y \"season\" y \"hour\" como las únicas variables predictoras, teniendo en cuenta que la variable \"season\" es categórica. Luego, imprima los coeficientes e interprételos. ¿Cuáles son las limitaciones de la regresión lineal en este caso?"
   ]
  },
  {
   "cell_type": "code",
   "execution_count": 11,
   "metadata": {
    "scrolled": true
   },
   "outputs": [
    {
     "data": {
      "text/plain": [
       "(-6.430262462306075,\n",
       " array([ 10.54520609, 100.31723192, 119.46754995,  84.08311787]))"
      ]
     },
     "execution_count": 11,
     "metadata": {},
     "output_type": "execute_result"
    }
   ],
   "source": [
    "# Celda 3\n",
    "X = bikes[['season','hour']]\n",
    "y = bikes['total']\n",
    "\n",
    "\n",
    "dummi = pd.get_dummies(X, columns=['season'], drop_first=True)\n",
    "\n",
    "modelo = LinearRegression()\n",
    "modelo.fit(dummi, y)\n",
    "\n",
    "intercepto = modelo.intercept_\n",
    "coeficientes = modelo.coef_\n",
    "\n",
    "(intercepto, coeficientes)"
   ]
  },
  {
   "cell_type": "markdown",
   "metadata": {},
   "source": [
    "Los coeficientes para las estaciones comparado con la estación de invierno indican el aumento o disminución del alquiler de bicicletas de acuerdo al clima. Para primavera el aumento promedio de alquiler de bicicletas es de 100.31, lo que significa mayor necesidad de andar en bicicleta, para verano que es una valor de 119.46 muestra incremento significativo en el alquiler de bicicletas, para otoño se muestra con un valor de coeficiente 84.08, respecto a verano se puede observar una disminución de alquiler de bicicletas.\n",
    "\n",
    "**Limitaciones:**\n",
    "* Se asume linealidad.\n",
    "* Se limita a sólo revisar el tamaño de los coeficientes."
   ]
  },
  {
   "cell_type": "markdown",
   "metadata": {},
   "source": [
    "### Punto 4 - Árbol de decisión manual\n",
    "En la celda 4 cree un árbol de decisiones para pronosticar la variable \"total\" iterando **manualmente** sobre las variables \"hour\" y  \"season\". El árbol debe tener al menos 6 nodos finales."
   ]
  },
  {
   "cell_type": "code",
   "execution_count": 12,
   "metadata": {},
   "outputs": [
    {
     "name": "stdout",
     "output_type": "stream",
     "text": [
      "mañana - Estación 1: 75.35128983308043\n",
      "mañana - Estación 2: 128.08058608058607\n",
      "mañana - Estación 3: 141.26373626373626\n",
      "mañana - Estación 4: 127.21010248901904\n",
      "tarde - Estación 1: 155.83698830409358\n",
      "tarde - Estación 2: 302.2309941520468\n",
      "tarde - Estación 3: 327.36622807017545\n",
      "tarde - Estación 4: 270.6615497076023\n"
     ]
    }
   ],
   "source": [
    "# Celda 4\n",
    "grupo_horario = {\n",
    "    'mañana': bikes[bikes['hour'] < 12],\n",
    "    'tarde': bikes[bikes['hour'] >= 12]\n",
    "}\n",
    "\n",
    "resultado = {}\n",
    "for dia, base in grupo_horario.items():\n",
    "    for season in sorted(base['season'].unique()):\n",
    "        key = f\"{dia} - Estación {season}\"\n",
    "        subset = base[base['season'] == season]\n",
    "        resultado[key] = subset['total'].mean()\n",
    "\n",
    "# Imprimimos los resultados\n",
    "for key, mean_total in resultado.items():\n",
    "    print(f\"{key}: {mean_total}\")"
   ]
  },
  {
   "cell_type": "markdown",
   "metadata": {},
   "source": [
    "### Punto 5 - Árbol de decisión con librería\n",
    "En la celda 5 entrene un árbol de decisiones con la **librería sklearn**, usando las variables predictoras \"season\" y \"hour\" y calibre los parámetros que considere conveniente para obtener un mejor desempeño. Recuerde dividir los datos en conjuntos de entrenamiento y validación para esto. Comente el desempeño del modelo con alguna métrica de desempeño de modelos de regresión y compare desempeño con el modelo del punto 3."
   ]
  },
  {
   "cell_type": "code",
   "execution_count": 13,
   "metadata": {
    "scrolled": true
   },
   "outputs": [
    {
     "name": "stdout",
     "output_type": "stream",
     "text": [
      "Depth optimo: 8 RMSE: 113.52127848883038\n",
      "Modelo Arbol de decisión RMSE: 115.21915420022897\n",
      "Modelo Arbol de decisión R^2: 0.591208468899617\n",
      "Modelo de Regresión Lineal - RMSE: 163.01204038621486\n",
      "Modelo de Regresión Lineal - R^2: 0.18173892680540737\n"
     ]
    }
   ],
   "source": [
    "# Celda 5\n",
    "from sklearn.model_selection import train_test_split\n",
    "from sklearn.metrics import mean_squared_error, r2_score\n",
    "\n",
    "X = bikes[['season', 'hour']]\n",
    "y = bikes['total']\n",
    "\n",
    "X_train, X_test, y_train, y_test = train_test_split(X, y, test_size=0.3, random_state=0)\n",
    "\n",
    "max_depth_range = range(1, 21)\n",
    "\n",
    "rmse_scores = []\n",
    "\n",
    "for depth in max_depth_range:\n",
    "    reg = DecisionTreeRegressor(max_depth=depth, random_state=0)\n",
    "    scores = cross_val_score(reg, X_train, y_train, cv=10, scoring='neg_mean_squared_error')\n",
    "    rmse_scores.append(np.mean(np.sqrt(-scores)))\n",
    "\n",
    "optimal_depth = max_depth_range[rmse_scores.index(min(rmse_scores))]\n",
    "optimal_rmse = min(rmse_scores)\n",
    "\n",
    "print(f\"Depth optimo: {optimal_depth}\",f\"RMSE: {optimal_rmse}\")\n",
    "\n",
    "arbol_regresion = DecisionTreeRegressor(max_depth=8, random_state=0)\n",
    "arbol_regresion.fit(X_train, y_train)\n",
    "\n",
    "y_pred = arbol_regresion.predict(X_test)\n",
    "\n",
    "rmse = np.sqrt(mean_squared_error(y_test, y_pred))\n",
    "r2 = r2_score(y_test, y_pred)\n",
    "\n",
    "print(f\"Modelo Arbol de decisión RMSE: {rmse}\")\n",
    "print(f\"Modelo Arbol de decisión R^2: {r2}\")\n",
    "\n",
    "#ajustar para la regresión lineal y poder comparar los modelos\n",
    "modelo.fit(X_train, y_train)\n",
    "\n",
    "# Hacer predicciones en el conjunto de prueba\n",
    "y_pred_linear = modelo.predict(X_test)\n",
    "\n",
    "# Calcular y mostrar las métricas de desempeño para el modelo de regresión lineal\n",
    "rmse_linear = np.sqrt(mean_squared_error(y_test, y_pred_linear))\n",
    "r2_linear = r2_score(y_test, y_pred_linear)\n",
    "\n",
    "print(f\"Modelo de Regresión Lineal - RMSE: {rmse_linear}\")\n",
    "print(f\"Modelo de Regresión Lineal - R^2: {r2_linear}\")"
   ]
  },
  {
   "cell_type": "markdown",
   "metadata": {},
   "source": [
    "Se puede observar que el RMSE más bajo lo tiene el de árbol de decisión comparado con la regresión lineal, por lo que se puede concluir que el árbol se ajusta mejor a los datos.\n",
    "Al comparar el R2 se puede observar que para el árbol de decisión es mucho más alto en comparación con la regresión lineal, el r2 nos indica que el modelo explica un 59% la variabilidad de los datos respuesta\n",
    "\n",
    "Con lo anterior, se puede concluir que la relación entre las variables predictoras y la variable respuesta no se siguen una relación lineal."
   ]
  },
  {
   "cell_type": "markdown",
   "metadata": {},
   "source": [
    "## Parte B - Métodos de ensamblajes\n",
    "En esta parte del taller se usará el conjunto de datos de Popularidad de Noticias Online. El objetivo es predecir si la notica es popular o no, la popularidad está dada por la cantidad de reacciones en redes sociales. Para más detalles puede visitar el siguiente enlace: [datos](https://archive.ics.uci.edu/ml/datasets/online+news+popularity)."
   ]
  },
  {
   "cell_type": "markdown",
   "metadata": {},
   "source": [
    "### Datos popularidad de noticias"
   ]
  },
  {
   "cell_type": "code",
   "execution_count": 14,
   "metadata": {},
   "outputs": [
    {
     "data": {
      "text/html": [
       "<div>\n",
       "<style scoped>\n",
       "    .dataframe tbody tr th:only-of-type {\n",
       "        vertical-align: middle;\n",
       "    }\n",
       "\n",
       "    .dataframe tbody tr th {\n",
       "        vertical-align: top;\n",
       "    }\n",
       "\n",
       "    .dataframe thead th {\n",
       "        text-align: right;\n",
       "    }\n",
       "</style>\n",
       "<table border=\"1\" class=\"dataframe\">\n",
       "  <thead>\n",
       "    <tr style=\"text-align: right;\">\n",
       "      <th></th>\n",
       "      <th>url</th>\n",
       "      <th>timedelta</th>\n",
       "      <th>n_tokens_title</th>\n",
       "      <th>n_tokens_content</th>\n",
       "      <th>n_unique_tokens</th>\n",
       "      <th>n_non_stop_words</th>\n",
       "      <th>n_non_stop_unique_tokens</th>\n",
       "      <th>num_hrefs</th>\n",
       "      <th>num_self_hrefs</th>\n",
       "      <th>num_imgs</th>\n",
       "      <th>num_videos</th>\n",
       "      <th>average_token_length</th>\n",
       "      <th>num_keywords</th>\n",
       "      <th>data_channel_is_lifestyle</th>\n",
       "      <th>data_channel_is_entertainment</th>\n",
       "      <th>data_channel_is_bus</th>\n",
       "      <th>data_channel_is_socmed</th>\n",
       "      <th>data_channel_is_tech</th>\n",
       "      <th>data_channel_is_world</th>\n",
       "      <th>kw_min_min</th>\n",
       "      <th>kw_max_min</th>\n",
       "      <th>kw_avg_min</th>\n",
       "      <th>kw_min_max</th>\n",
       "      <th>kw_max_max</th>\n",
       "      <th>kw_avg_max</th>\n",
       "      <th>kw_min_avg</th>\n",
       "      <th>kw_max_avg</th>\n",
       "      <th>kw_avg_avg</th>\n",
       "      <th>self_reference_min_shares</th>\n",
       "      <th>self_reference_max_shares</th>\n",
       "      <th>self_reference_avg_sharess</th>\n",
       "      <th>weekday_is_monday</th>\n",
       "      <th>weekday_is_tuesday</th>\n",
       "      <th>weekday_is_wednesday</th>\n",
       "      <th>weekday_is_thursday</th>\n",
       "      <th>weekday_is_friday</th>\n",
       "      <th>weekday_is_saturday</th>\n",
       "      <th>weekday_is_sunday</th>\n",
       "      <th>is_weekend</th>\n",
       "      <th>LDA_00</th>\n",
       "      <th>LDA_01</th>\n",
       "      <th>LDA_02</th>\n",
       "      <th>LDA_03</th>\n",
       "      <th>LDA_04</th>\n",
       "      <th>global_subjectivity</th>\n",
       "      <th>global_sentiment_polarity</th>\n",
       "      <th>global_rate_positive_words</th>\n",
       "      <th>global_rate_negative_words</th>\n",
       "      <th>rate_positive_words</th>\n",
       "      <th>rate_negative_words</th>\n",
       "      <th>avg_positive_polarity</th>\n",
       "      <th>min_positive_polarity</th>\n",
       "      <th>max_positive_polarity</th>\n",
       "      <th>avg_negative_polarity</th>\n",
       "      <th>min_negative_polarity</th>\n",
       "      <th>max_negative_polarity</th>\n",
       "      <th>title_subjectivity</th>\n",
       "      <th>title_sentiment_polarity</th>\n",
       "      <th>abs_title_subjectivity</th>\n",
       "      <th>abs_title_sentiment_polarity</th>\n",
       "      <th>Popular</th>\n",
       "    </tr>\n",
       "  </thead>\n",
       "  <tbody>\n",
       "    <tr>\n",
       "      <th>0</th>\n",
       "      <td>http://mashable.com/2014/12/10/cia-torture-rep...</td>\n",
       "      <td>28.0</td>\n",
       "      <td>9.0</td>\n",
       "      <td>188.0</td>\n",
       "      <td>0.732620</td>\n",
       "      <td>1.0</td>\n",
       "      <td>0.844262</td>\n",
       "      <td>5.0</td>\n",
       "      <td>1.0</td>\n",
       "      <td>1.0</td>\n",
       "      <td>2.0</td>\n",
       "      <td>4.702128</td>\n",
       "      <td>7.0</td>\n",
       "      <td>0.0</td>\n",
       "      <td>0.0</td>\n",
       "      <td>0.0</td>\n",
       "      <td>0.0</td>\n",
       "      <td>0.0</td>\n",
       "      <td>0.0</td>\n",
       "      <td>-1.0</td>\n",
       "      <td>1300.0</td>\n",
       "      <td>259.718000</td>\n",
       "      <td>0.0</td>\n",
       "      <td>843300.0</td>\n",
       "      <td>482257.142857</td>\n",
       "      <td>0.000000</td>\n",
       "      <td>6963.954292</td>\n",
       "      <td>3415.943322</td>\n",
       "      <td>4500.0</td>\n",
       "      <td>4500.0</td>\n",
       "      <td>4500.0</td>\n",
       "      <td>0.0</td>\n",
       "      <td>0.0</td>\n",
       "      <td>0.0</td>\n",
       "      <td>1.0</td>\n",
       "      <td>0.0</td>\n",
       "      <td>0.0</td>\n",
       "      <td>0.0</td>\n",
       "      <td>0.0</td>\n",
       "      <td>0.028582</td>\n",
       "      <td>0.028594</td>\n",
       "      <td>0.028578</td>\n",
       "      <td>0.745673</td>\n",
       "      <td>0.168573</td>\n",
       "      <td>0.625376</td>\n",
       "      <td>0.144737</td>\n",
       "      <td>0.053191</td>\n",
       "      <td>0.021277</td>\n",
       "      <td>0.714286</td>\n",
       "      <td>0.285714</td>\n",
       "      <td>0.470000</td>\n",
       "      <td>0.200000</td>\n",
       "      <td>0.80</td>\n",
       "      <td>-0.487500</td>\n",
       "      <td>-0.60</td>\n",
       "      <td>-0.250000</td>\n",
       "      <td>0.9</td>\n",
       "      <td>0.8</td>\n",
       "      <td>0.4</td>\n",
       "      <td>0.8</td>\n",
       "      <td>1</td>\n",
       "    </tr>\n",
       "    <tr>\n",
       "      <th>1</th>\n",
       "      <td>http://mashable.com/2013/10/18/bitlock-kicksta...</td>\n",
       "      <td>447.0</td>\n",
       "      <td>7.0</td>\n",
       "      <td>297.0</td>\n",
       "      <td>0.653199</td>\n",
       "      <td>1.0</td>\n",
       "      <td>0.815789</td>\n",
       "      <td>9.0</td>\n",
       "      <td>4.0</td>\n",
       "      <td>1.0</td>\n",
       "      <td>0.0</td>\n",
       "      <td>5.010101</td>\n",
       "      <td>8.0</td>\n",
       "      <td>0.0</td>\n",
       "      <td>0.0</td>\n",
       "      <td>0.0</td>\n",
       "      <td>0.0</td>\n",
       "      <td>1.0</td>\n",
       "      <td>0.0</td>\n",
       "      <td>4.0</td>\n",
       "      <td>919.0</td>\n",
       "      <td>250.142857</td>\n",
       "      <td>0.0</td>\n",
       "      <td>843300.0</td>\n",
       "      <td>142712.500000</td>\n",
       "      <td>0.000000</td>\n",
       "      <td>4429.750000</td>\n",
       "      <td>2610.941050</td>\n",
       "      <td>928.0</td>\n",
       "      <td>928.0</td>\n",
       "      <td>928.0</td>\n",
       "      <td>0.0</td>\n",
       "      <td>0.0</td>\n",
       "      <td>0.0</td>\n",
       "      <td>0.0</td>\n",
       "      <td>1.0</td>\n",
       "      <td>0.0</td>\n",
       "      <td>0.0</td>\n",
       "      <td>0.0</td>\n",
       "      <td>0.027098</td>\n",
       "      <td>0.025006</td>\n",
       "      <td>0.276713</td>\n",
       "      <td>0.025003</td>\n",
       "      <td>0.646181</td>\n",
       "      <td>0.376439</td>\n",
       "      <td>0.056574</td>\n",
       "      <td>0.030303</td>\n",
       "      <td>0.030303</td>\n",
       "      <td>0.500000</td>\n",
       "      <td>0.500000</td>\n",
       "      <td>0.342778</td>\n",
       "      <td>0.160000</td>\n",
       "      <td>0.50</td>\n",
       "      <td>-0.135340</td>\n",
       "      <td>-0.40</td>\n",
       "      <td>-0.050000</td>\n",
       "      <td>0.1</td>\n",
       "      <td>-0.1</td>\n",
       "      <td>0.4</td>\n",
       "      <td>0.1</td>\n",
       "      <td>0</td>\n",
       "    </tr>\n",
       "    <tr>\n",
       "      <th>2</th>\n",
       "      <td>http://mashable.com/2013/07/24/google-glass-po...</td>\n",
       "      <td>533.0</td>\n",
       "      <td>11.0</td>\n",
       "      <td>181.0</td>\n",
       "      <td>0.660377</td>\n",
       "      <td>1.0</td>\n",
       "      <td>0.775701</td>\n",
       "      <td>4.0</td>\n",
       "      <td>3.0</td>\n",
       "      <td>1.0</td>\n",
       "      <td>0.0</td>\n",
       "      <td>3.972376</td>\n",
       "      <td>6.0</td>\n",
       "      <td>0.0</td>\n",
       "      <td>0.0</td>\n",
       "      <td>0.0</td>\n",
       "      <td>0.0</td>\n",
       "      <td>1.0</td>\n",
       "      <td>0.0</td>\n",
       "      <td>4.0</td>\n",
       "      <td>791.0</td>\n",
       "      <td>205.666667</td>\n",
       "      <td>4800.0</td>\n",
       "      <td>843300.0</td>\n",
       "      <td>229066.666667</td>\n",
       "      <td>2440.825000</td>\n",
       "      <td>3300.698315</td>\n",
       "      <td>2895.516309</td>\n",
       "      <td>1300.0</td>\n",
       "      <td>1300.0</td>\n",
       "      <td>1300.0</td>\n",
       "      <td>0.0</td>\n",
       "      <td>0.0</td>\n",
       "      <td>1.0</td>\n",
       "      <td>0.0</td>\n",
       "      <td>0.0</td>\n",
       "      <td>0.0</td>\n",
       "      <td>0.0</td>\n",
       "      <td>0.0</td>\n",
       "      <td>0.033499</td>\n",
       "      <td>0.200063</td>\n",
       "      <td>0.033411</td>\n",
       "      <td>0.033334</td>\n",
       "      <td>0.699693</td>\n",
       "      <td>0.462500</td>\n",
       "      <td>0.535795</td>\n",
       "      <td>0.049724</td>\n",
       "      <td>0.000000</td>\n",
       "      <td>1.000000</td>\n",
       "      <td>0.000000</td>\n",
       "      <td>0.516263</td>\n",
       "      <td>0.136364</td>\n",
       "      <td>1.00</td>\n",
       "      <td>0.000000</td>\n",
       "      <td>0.00</td>\n",
       "      <td>0.000000</td>\n",
       "      <td>0.3</td>\n",
       "      <td>1.0</td>\n",
       "      <td>0.2</td>\n",
       "      <td>1.0</td>\n",
       "      <td>0</td>\n",
       "    </tr>\n",
       "    <tr>\n",
       "      <th>3</th>\n",
       "      <td>http://mashable.com/2013/11/21/these-are-the-m...</td>\n",
       "      <td>413.0</td>\n",
       "      <td>12.0</td>\n",
       "      <td>781.0</td>\n",
       "      <td>0.497409</td>\n",
       "      <td>1.0</td>\n",
       "      <td>0.677350</td>\n",
       "      <td>10.0</td>\n",
       "      <td>3.0</td>\n",
       "      <td>1.0</td>\n",
       "      <td>0.0</td>\n",
       "      <td>4.467350</td>\n",
       "      <td>7.0</td>\n",
       "      <td>0.0</td>\n",
       "      <td>0.0</td>\n",
       "      <td>1.0</td>\n",
       "      <td>0.0</td>\n",
       "      <td>0.0</td>\n",
       "      <td>0.0</td>\n",
       "      <td>4.0</td>\n",
       "      <td>1200.0</td>\n",
       "      <td>280.800000</td>\n",
       "      <td>0.0</td>\n",
       "      <td>843300.0</td>\n",
       "      <td>335642.857143</td>\n",
       "      <td>0.000000</td>\n",
       "      <td>4415.722689</td>\n",
       "      <td>2103.971787</td>\n",
       "      <td>0.0</td>\n",
       "      <td>0.0</td>\n",
       "      <td>0.0</td>\n",
       "      <td>0.0</td>\n",
       "      <td>0.0</td>\n",
       "      <td>0.0</td>\n",
       "      <td>1.0</td>\n",
       "      <td>0.0</td>\n",
       "      <td>0.0</td>\n",
       "      <td>0.0</td>\n",
       "      <td>0.0</td>\n",
       "      <td>0.457963</td>\n",
       "      <td>0.028580</td>\n",
       "      <td>0.456140</td>\n",
       "      <td>0.028627</td>\n",
       "      <td>0.028690</td>\n",
       "      <td>0.425314</td>\n",
       "      <td>0.091016</td>\n",
       "      <td>0.030730</td>\n",
       "      <td>0.023047</td>\n",
       "      <td>0.571429</td>\n",
       "      <td>0.428571</td>\n",
       "      <td>0.436654</td>\n",
       "      <td>0.100000</td>\n",
       "      <td>1.00</td>\n",
       "      <td>-0.195701</td>\n",
       "      <td>-0.40</td>\n",
       "      <td>-0.071429</td>\n",
       "      <td>0.0</td>\n",
       "      <td>0.0</td>\n",
       "      <td>0.5</td>\n",
       "      <td>0.0</td>\n",
       "      <td>0</td>\n",
       "    </tr>\n",
       "    <tr>\n",
       "      <th>4</th>\n",
       "      <td>http://mashable.com/2014/02/11/parking-ticket-...</td>\n",
       "      <td>331.0</td>\n",
       "      <td>8.0</td>\n",
       "      <td>177.0</td>\n",
       "      <td>0.685714</td>\n",
       "      <td>1.0</td>\n",
       "      <td>0.830357</td>\n",
       "      <td>3.0</td>\n",
       "      <td>2.0</td>\n",
       "      <td>1.0</td>\n",
       "      <td>0.0</td>\n",
       "      <td>5.146893</td>\n",
       "      <td>4.0</td>\n",
       "      <td>0.0</td>\n",
       "      <td>0.0</td>\n",
       "      <td>0.0</td>\n",
       "      <td>1.0</td>\n",
       "      <td>0.0</td>\n",
       "      <td>0.0</td>\n",
       "      <td>-1.0</td>\n",
       "      <td>935.0</td>\n",
       "      <td>268.250000</td>\n",
       "      <td>1700.0</td>\n",
       "      <td>843300.0</td>\n",
       "      <td>258100.000000</td>\n",
       "      <td>1218.111111</td>\n",
       "      <td>3588.790194</td>\n",
       "      <td>2809.374181</td>\n",
       "      <td>2400.0</td>\n",
       "      <td>8200.0</td>\n",
       "      <td>5300.0</td>\n",
       "      <td>0.0</td>\n",
       "      <td>1.0</td>\n",
       "      <td>0.0</td>\n",
       "      <td>0.0</td>\n",
       "      <td>0.0</td>\n",
       "      <td>0.0</td>\n",
       "      <td>0.0</td>\n",
       "      <td>0.0</td>\n",
       "      <td>0.051121</td>\n",
       "      <td>0.050014</td>\n",
       "      <td>0.050167</td>\n",
       "      <td>0.050003</td>\n",
       "      <td>0.798695</td>\n",
       "      <td>0.370238</td>\n",
       "      <td>0.148214</td>\n",
       "      <td>0.039548</td>\n",
       "      <td>0.011299</td>\n",
       "      <td>0.777778</td>\n",
       "      <td>0.222222</td>\n",
       "      <td>0.346429</td>\n",
       "      <td>0.100000</td>\n",
       "      <td>0.55</td>\n",
       "      <td>-0.175000</td>\n",
       "      <td>-0.25</td>\n",
       "      <td>-0.100000</td>\n",
       "      <td>0.0</td>\n",
       "      <td>0.0</td>\n",
       "      <td>0.5</td>\n",
       "      <td>0.0</td>\n",
       "      <td>0</td>\n",
       "    </tr>\n",
       "  </tbody>\n",
       "</table>\n",
       "</div>"
      ],
      "text/plain": [
       "                                                 url  ...  Popular\n",
       "0  http://mashable.com/2014/12/10/cia-torture-rep...  ...        1\n",
       "1  http://mashable.com/2013/10/18/bitlock-kicksta...  ...        0\n",
       "2  http://mashable.com/2013/07/24/google-glass-po...  ...        0\n",
       "3  http://mashable.com/2013/11/21/these-are-the-m...  ...        0\n",
       "4  http://mashable.com/2014/02/11/parking-ticket-...  ...        0\n",
       "\n",
       "[5 rows x 61 columns]"
      ]
     },
     "execution_count": 14,
     "metadata": {},
     "output_type": "execute_result"
    }
   ],
   "source": [
    "# Lectura de la información de archivo .csv\n",
    "df = pd.read_csv('https://raw.githubusercontent.com/davidzarruk/MIAD_ML_NLP_2023/main/datasets/mashable.csv', index_col=0)\n",
    "df.head()"
   ]
  },
  {
   "cell_type": "code",
   "execution_count": 15,
   "metadata": {},
   "outputs": [
    {
     "data": {
      "text/plain": [
       "0.5"
      ]
     },
     "execution_count": 15,
     "metadata": {},
     "output_type": "execute_result"
    }
   ],
   "source": [
    "# Definición variable de interes y variables predictoras\n",
    "X = df.drop(['url', 'Popular'], axis=1)\n",
    "y = df['Popular']\n",
    "y.mean()"
   ]
  },
  {
   "cell_type": "code",
   "execution_count": 16,
   "metadata": {},
   "outputs": [],
   "source": [
    "# División de la muestra en set de entrenamiento y prueba\n",
    "from sklearn.model_selection import train_test_split\n",
    "X_train, X_test, y_train, y_test = train_test_split(X, y, random_state=1)"
   ]
  },
  {
   "cell_type": "markdown",
   "metadata": {},
   "source": [
    "### Punto 6 - Árbol de decisión y regresión logística\n",
    "En la celda 6 construya un árbol de decisión y una regresión logística. Para el árbol calibre al menos un parámetro y evalúe el desempeño de cada modelo usando las métricas de Accuracy y F1-Score."
   ]
  },
  {
   "cell_type": "code",
   "execution_count": 17,
   "metadata": {},
   "outputs": [
    {
     "name": "stdout",
     "output_type": "stream",
     "text": [
      "Optimal max_depth: 1\n",
      "Accuracy: 0.6308888888888888\n",
      "Accuracy (Árbol de decisión): 0.6453333333333333\n",
      "F1-Score (Árbol de decisión): 0.6448598130841121\n",
      "F1-Score (Decision Tree): 0.6453327028136938\n",
      "F1-Score (Logistic Regression): 0.618242491657397\n"
     ]
    }
   ],
   "source": [
    "# Celda 6\n",
    "from sklearn.tree import DecisionTreeClassifier\n",
    "from sklearn.linear_model import LogisticRegression\n",
    "from sklearn.metrics import accuracy_score, f1_score\n",
    "from sklearn.model_selection import GridSearchCV\n",
    "\n",
    "#Arbol de decisión\n",
    "max_depth_range = range(1, 21)\n",
    "\n",
    "accuracy_scores = []\n",
    "\n",
    "for depth in max_depth_range:\n",
    "    clf = DecisionTreeClassifier(max_depth=depth, random_state=1)\n",
    "    scores = cross_val_score(clf, X_train, y_train, cv=10, scoring='accuracy')\n",
    "    accuracy_scores.append(np.mean(scores))\n",
    "\n",
    "optimal_depth = max_depth_range[accuracy_scores.index(max(accuracy_scores))]\n",
    "optimal_accuracy = max(accuracy_scores)\n",
    "\n",
    "print(f\"Optimal max_depth: {optimal_depth}\")\n",
    "print(f\"Accuracy: {optimal_accuracy}\")\n",
    "\n",
    "clf = DecisionTreeClassifier(max_depth=1, random_state=1)\n",
    "clf.fit(X_train, y_train)\n",
    "\n",
    "print(\"Accuracy (Árbol de decisión):\", accuracy_score(y_test, clf.predict(X_test)))\n",
    "print(\"F1-Score (Árbol de decisión):\", f1_score(y_test, clf.predict(X_test)))\n",
    "\n",
    "# Regresión logística\n",
    "logreg = LogisticRegression(max_iter=1000, random_state=1)\n",
    "logreg.fit(X_train, y_train)\n",
    "\n",
    "# Evaluación\n",
    "# For Decision Tree\n",
    "print(\"F1-Score (Decision Tree):\", f1_score(y_test, clf.predict(X_test), average='macro'))\n",
    "\n",
    "# For Logistic Regression\n",
    "print(\"F1-Score (Logistic Regression):\", f1_score(y_test, logreg.predict(X_test), average='macro'))\n"
   ]
  },
  {
   "cell_type": "markdown",
   "metadata": {},
   "source": [
    "Se puede observar que el mejor desempeño lo tiene el arbol de decisión con un F1 score más alto"
   ]
  },
  {
   "cell_type": "markdown",
   "metadata": {},
   "source": [
    "### Punto 7 - Votación Mayoritaria\n",
    "En la celda 7 elabore un esamble con la metodología de **Votación mayoritaria** compuesto por 300 muestras bagged para cada uno de los siguientes escenarios:\n",
    "\n",
    "-100 árboles de decisión donde max_depth tome un valor de su elección\\\n",
    "-100 árboles de decisión donde min_samples_leaf tome un valor de su elección\\\n",
    "-100 regresiones logísticas\n",
    "\n",
    "Evalúe cada uno de los tres modelos de manera independiente utilizando las métricas de Accuracy y F1-Score, luego evalúe el ensamble de modelos y compare los resultados. "
   ]
  },
  {
   "cell_type": "code",
   "execution_count": 21,
   "metadata": {},
   "outputs": [
    {
     "name": "stdout",
     "output_type": "stream",
     "text": [
      "Árboles (max_depth): Accuracy = 0.66, F1 = 0.6599999999999999\n",
      "Árboles (min_samples_leaf): Accuracy = 0.646, F1 = 0.6490416391275612\n",
      "Regresiones Logísticas: Accuracy = 0.6166666666666667, F1 = 0.6042670337233311\n",
      "Accuracy del ensamble con votación mayoritaria: 0.652\n",
      "F1-Score del ensamble con votación mayoritaria: 0.652\n"
     ]
    }
   ],
   "source": [
    "# Celda 7\n",
    "from sklearn.ensemble import BaggingClassifier\n",
    "from sklearn.tree import DecisionTreeClassifier\n",
    "from sklearn.linear_model import LogisticRegression\n",
    "from scipy.stats import mode\n",
    "# Árboles de decisión con max_depth específico\n",
    "arbol_depth = BaggingClassifier(\n",
    "    base_estimator=DecisionTreeClassifier(max_depth=5), \n",
    "    n_estimators=100,\n",
    "    random_state=1,\n",
    "    n_jobs=-1)\n",
    "\n",
    "arbol_depth.fit(X_train, y_train)\n",
    "\n",
    "# Árboles de decisión con min_samples_leaf específico\n",
    "arbol_ensemble_leaf = BaggingClassifier(\n",
    "    base_estimator=DecisionTreeClassifier(min_samples_leaf=4),  \n",
    "    n_estimators=100,\n",
    "    random_state=1,\n",
    "    n_jobs=-1)\n",
    "\n",
    "arbol_ensemble_leaf.fit(X_train, y_train)\n",
    "\n",
    "# Regresiones logísticas\n",
    "logreg_ensemble = BaggingClassifier(\n",
    "    base_estimator=LogisticRegression(max_iter=1000),\n",
    "    n_estimators=100,\n",
    "    random_state=1,\n",
    "    n_jobs=-1)\n",
    "\n",
    "logreg_ensemble.fit(X_train, y_train)\n",
    "\n",
    "def ensamble(ensemble, X_test, y_test):\n",
    "    predictions = ensemble.predict(X_test)\n",
    "    accuracy = accuracy_score(y_test, predictions)\n",
    "    f1 = f1_score(y_test, predictions)\n",
    "    return accuracy, f1,predictions\n",
    "\n",
    "accuracy_depth, f1_depth, predictions_depth = ensamble(arbol_depth, X_test, y_test)\n",
    "accuracy_leaf, f1_leaf, predictions_leaf = ensamble(arbol_ensemble_leaf, X_test, y_test)\n",
    "accuracy_logreg, f1_logreg, predictions_logreg = ensamble(logreg_ensemble, X_test, y_test)\n",
    "\n",
    "print(f\"Árboles (max_depth): Accuracy = {accuracy_depth}, F1 = {f1_depth}\")\n",
    "print(f\"Árboles (min_samples_leaf): Accuracy = {accuracy_leaf}, F1 = {f1_leaf}\")\n",
    "print(f\"Regresiones Logísticas: Accuracy = {accuracy_logreg}, F1 = {f1_logreg}\")\n",
    "\n",
    "predicciones_t = np.vstack([predictions_depth, predictions_leaf, predictions_logreg]).T\n",
    "\n",
    "# Realizamos la votación mayoritaria por fila (por muestra)\n",
    "votacion_mayoritaria = mode(predicciones_t, axis=1)\n",
    "predicciones_finales = votacion_mayoritaria.mode.flatten()\n",
    "\n",
    "# Evaluar el desempeño del ensamble con votación mayoritaria\n",
    "accuracy_ensamble = accuracy_score(y_test, predicciones_finales)\n",
    "f1_ensamble = f1_score(y_test, predicciones_finales)\n",
    "\n",
    "print(f\"Accuracy del ensamble con votación mayoritaria: {accuracy_ensamble}\")\n",
    "print(f\"F1-Score del ensamble con votación mayoritaria: {f1_ensamble}\")"
   ]
  },
  {
   "cell_type": "markdown",
   "metadata": {},
   "source": [
    "Al revisar los resultados se puede observar que para los árboles donde se hizo el ajuste de la profundidad de la hoja, tiene el mejor accuracy comparado con los demás ensambles.\n",
    "Por su parte, las regresiones logísticas no tuvieron un comportamiento superior a los árboles de decisión.\n",
    "Al realizar el ensamble por votación se puede observar que tuvo un comportamiento casi igual de significativo que por arboles de decisión, por lo que se puede observar la robustez y precisión que puede ofrecer este tipo de ensamblajes."
   ]
  },
  {
   "cell_type": "markdown",
   "metadata": {},
   "source": [
    "### Punto 8 - Votación Ponderada\n",
    "En la celda 8 elabore un ensamble con la metodología de **Votación ponderada** compuesto por 300 muestras bagged para los mismos tres escenarios del punto 7. Evalúe los modelos utilizando las métricas de Accuracy y F1-Score"
   ]
  },
  {
   "cell_type": "code",
   "execution_count": 22,
   "metadata": {},
   "outputs": [
    {
     "name": "stdout",
     "output_type": "stream",
     "text": [
      "Accuracy del ensamble con votación ponderada: 0.652\n",
      "F1-Score del ensamble con votación ponderada: 0.652\n"
     ]
    }
   ],
   "source": [
    "# Celda 8\n",
    "accuracy_total = np.array([accuracy_depth, accuracy_leaf, accuracy_logreg])\n",
    "\n",
    "all_predictions = np.vstack([predictions_depth, predictions_leaf, predictions_logreg]).T\n",
    "\n",
    "# Calcular la votación ponderada\n",
    "weighted_votes = np.average(all_predictions, axis=1, weights=accuracy_total)\n",
    "\n",
    "\n",
    "final_predictions = (weighted_votes > 0.5).astype(int)\n",
    "\n",
    "# Evaluar el ensamble con votación ponderada\n",
    "accuracy_ensemble_weighted = accuracy_score(y_test, final_predictions)\n",
    "f1_ensemble_weighted = f1_score(y_test, final_predictions)\n",
    "\n",
    "print(f\"Accuracy del ensamble con votación ponderada: {accuracy_ensemble_weighted}\")\n",
    "print(f\"F1-Score del ensamble con votación ponderada: {f1_ensemble_weighted}\")\n",
    "\n"
   ]
  },
  {
   "cell_type": "markdown",
   "metadata": {},
   "source": [
    "### Punto 9 - Comparación y análisis de resultados\n",
    "En la celda 9 comente sobre los resultados obtenidos con las metodologías usadas en los puntos 7 y 8, compare los resultados y enuncie posibles ventajas o desventajas de cada una de ellas."
   ]
  },
  {
   "cell_type": "markdown",
   "metadata": {},
   "source": [
    "# Celda 9\n",
    "Se puede observar que el valor de accuracy y el f1 score es igual al de por votación mayoritaria, con esto se puede concluir que el caso por votación ponderada no tiene un efecto significativo en el ajuste.\n",
    "\n",
    "Las ventajas de usar votación mayoritaria es que es mas sencillo de implementar debido a que el peso que se le asigna a cada modelo es el mismo.\n",
    "Evita el sobreajuste, ya que "
   ]
  }
 ],
 "metadata": {
  "kernelspec": {
   "display_name": "Python 3 (Spyder)",
   "language": "python3",
   "name": "python3"
  },
  "language_info": {
   "codemirror_mode": {
    "name": "ipython",
    "version": 3
   },
   "file_extension": ".py",
   "mimetype": "text/x-python",
   "name": "python",
   "nbconvert_exporter": "python",
   "pygments_lexer": "ipython3",
   "version": "3.11.5"
  }
 },
 "nbformat": 4,
 "nbformat_minor": 4
}
