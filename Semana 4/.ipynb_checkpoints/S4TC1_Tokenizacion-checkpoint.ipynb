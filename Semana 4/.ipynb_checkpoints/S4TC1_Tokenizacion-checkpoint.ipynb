{
 "cells": [
  {
   "cell_type": "markdown",
   "metadata": {},
   "source": [
    "![image info](https://raw.githubusercontent.com/albahnsen/MIAD_ML_and_NLP/main/images/banner_1.png)"
   ]
  },
  {
   "cell_type": "markdown",
   "metadata": {},
   "source": [
    "# Taller: Tokenización de textos  \n",
    "\n",
    "En este taller podrán poner en práctica sus conocimientos sobre preprocesamiento de texto (tokenización). El taller está constituido por 5 puntos, en los cuales deberan seguir las intrucciones de cada numeral para su desarrollo."
   ]
  },
  {
   "cell_type": "markdown",
   "metadata": {},
   "source": [
    "## Datos detección de toxicidad en comentarios\n",
    "\n",
    "En este taller se usará el conjunto de datos de detección de toxicidad en comentarios de la base de datos de Kaggle. Cada observación es un comentario que tiene como variable objetivo (target) la probabilidad de ser un comentario tóxico. El objetivo es predecir la toxicidad de cada comentario. Para más detalles pueden visitar el siguiente enlace: [datos](https://www.kaggle.com/c/jigsaw-unintended-bias-in-toxicity-classification/data)."
   ]
  },
  {
   "cell_type": "code",
   "execution_count": 1,
   "metadata": {},
   "outputs": [],
   "source": [
    "import warnings\n",
    "warnings.filterwarnings('ignore')"
   ]
  },
  {
   "cell_type": "code",
   "execution_count": 2,
   "metadata": {},
   "outputs": [],
   "source": [
    "# Importación librerías\n",
    "import pandas as pd\n",
    "import numpy as np\n",
    "import scipy as sp\n",
    "from sklearn.model_selection import train_test_split, cross_val_score\n",
    "from sklearn.feature_extraction.text import CountVectorizer, TfidfVectorizer\n",
    "from sklearn import metrics\n",
    "%matplotlib inline\n",
    "from sklearn.metrics import mean_squared_error\n",
    "from sklearn.linear_model import Ridge\n",
    "import seaborn as sns\n",
    "from sklearn.linear_model import LinearRegression, Ridge, Lasso\n",
    "from sklearn.tree import DecisionTreeRegressor\n",
    "from sklearn.ensemble import RandomForestRegressor\n"
   ]
  },
  {
   "cell_type": "code",
   "execution_count": 3,
   "metadata": {},
   "outputs": [
    {
     "data": {
      "text/html": [
       "<div>\n",
       "<style scoped>\n",
       "    .dataframe tbody tr th:only-of-type {\n",
       "        vertical-align: middle;\n",
       "    }\n",
       "\n",
       "    .dataframe tbody tr th {\n",
       "        vertical-align: top;\n",
       "    }\n",
       "\n",
       "    .dataframe thead th {\n",
       "        text-align: right;\n",
       "    }\n",
       "</style>\n",
       "<table border=\"1\" class=\"dataframe\">\n",
       "  <thead>\n",
       "    <tr style=\"text-align: right;\">\n",
       "      <th></th>\n",
       "      <th>id</th>\n",
       "      <th>comment_text</th>\n",
       "      <th>target</th>\n",
       "    </tr>\n",
       "  </thead>\n",
       "  <tbody>\n",
       "    <tr>\n",
       "      <th>0</th>\n",
       "      <td>6101457</td>\n",
       "      <td>What are you talking about? What group do Pete...</td>\n",
       "      <td>0.0</td>\n",
       "    </tr>\n",
       "    <tr>\n",
       "      <th>1</th>\n",
       "      <td>5342103</td>\n",
       "      <td>NO!, Let him, we need a Conservative government.</td>\n",
       "      <td>0.0</td>\n",
       "    </tr>\n",
       "    <tr>\n",
       "      <th>2</th>\n",
       "      <td>743361</td>\n",
       "      <td>Perhaps he took the \"power out of the Cardinal...</td>\n",
       "      <td>0.2</td>\n",
       "    </tr>\n",
       "    <tr>\n",
       "      <th>3</th>\n",
       "      <td>551008</td>\n",
       "      <td>As always, yours is dripping with sarcasm, whi...</td>\n",
       "      <td>0.0</td>\n",
       "    </tr>\n",
       "    <tr>\n",
       "      <th>4</th>\n",
       "      <td>865998</td>\n",
       "      <td>The dirty little secret is that the price rang...</td>\n",
       "      <td>0.3</td>\n",
       "    </tr>\n",
       "  </tbody>\n",
       "</table>\n",
       "</div>"
      ],
      "text/plain": [
       "        id                                       comment_text  target\n",
       "0  6101457  What are you talking about? What group do Pete...     0.0\n",
       "1  5342103   NO!, Let him, we need a Conservative government.     0.0\n",
       "2   743361  Perhaps he took the \"power out of the Cardinal...     0.2\n",
       "3   551008  As always, yours is dripping with sarcasm, whi...     0.0\n",
       "4   865998  The dirty little secret is that the price rang...     0.3"
      ]
     },
     "execution_count": 3,
     "metadata": {},
     "output_type": "execute_result"
    }
   ],
   "source": [
    "# Carga de datos de archivos .csv\n",
    "df = pd.read_csv('https://raw.githubusercontent.com/albahnsen/MIAD_ML_and_NLP/main/datasets/Toxicity.zip')\n",
    "df = df[['id','comment_text', 'target']]\n",
    "df.head()"
   ]
  },
  {
   "cell_type": "code",
   "execution_count": 4,
   "metadata": {},
   "outputs": [
    {
     "data": {
      "text/plain": [
       "(541462, 3)"
      ]
     },
     "execution_count": 4,
     "metadata": {},
     "output_type": "execute_result"
    }
   ],
   "source": [
    "df.shape"
   ]
  },
  {
   "cell_type": "code",
   "execution_count": 5,
   "metadata": {
    "scrolled": true
   },
   "outputs": [
    {
     "data": {
      "text/plain": [
       "<Axes: >"
      ]
     },
     "execution_count": 5,
     "metadata": {},
     "output_type": "execute_result"
    },
    {
     "data": {
      "image/png": "[encoded data removed]",
      "text/plain": [
       "<Figure size 432x288 with 1 Axes>"
      ]
     },
     "metadata": {},
     "output_type": "display_data"
    }
   ],
   "source": [
    "# Impresión histograma de variable de interés (y)\n",
    "df.target.hist()"
   ]
  },
  {
   "cell_type": "markdown",
   "metadata": {},
   "source": [
    "Se puede observar que la distribución se encuentra desbalanceada, por lo que se puede decir que la distribución de los comentarios toxicos es muy baja."
   ]
  },
  {
   "cell_type": "code",
   "execution_count": 6,
   "metadata": {
    "scrolled": true
   },
   "outputs": [
    {
     "data": {
      "text/plain": [
       "count    541462.000000\n",
       "mean          0.102991\n",
       "std           0.196979\n",
       "min           0.000000\n",
       "25%           0.000000\n",
       "50%           0.000000\n",
       "75%           0.166667\n",
       "max           1.000000\n",
       "Name: target, dtype: float64"
      ]
     },
     "execution_count": 6,
     "metadata": {},
     "output_type": "execute_result"
    }
   ],
   "source": [
    "# Separación de variable de interés (y)\n",
    "y = df.target\n",
    "y.describe()"
   ]
  },
  {
   "cell_type": "code",
   "execution_count": 7,
   "metadata": {},
   "outputs": [],
   "source": [
    "# Separación de variables predictoras (X), solo se considera el texto de la noticia\n",
    "X = df.comment_text"
   ]
  },
  {
   "cell_type": "code",
   "execution_count": 8,
   "metadata": {},
   "outputs": [],
   "source": [
    "# Separación de datos en set de entrenamiento y test\n",
    "X_train, X_test, y_train, y_test = train_test_split(X, y, test_size=0.33, random_state=42)"
   ]
  },
  {
   "cell_type": "code",
   "execution_count": 9,
   "metadata": {},
   "outputs": [
    {
     "name": "stdout",
     "output_type": "stream",
     "text": [
      "Descripción de la longitud de los comentarios:\n",
      "count    541462.000000\n",
      "mean        297.391015\n",
      "std         269.486412\n",
      "min           1.000000\n",
      "25%          94.000000\n",
      "50%         202.000000\n",
      "75%         414.000000\n",
      "max        1737.000000\n",
      "Name: length, dtype: float64\n"
     ]
    },
    {
     "data": {
      "image/png": "[encoded data removed]",
      "text/plain": [
       "<Figure size 576x288 with 1 Axes>"
      ]
     },
     "metadata": {},
     "output_type": "display_data"
    }
   ],
   "source": [
    "df['length'] = df['comment_text'].str.len()\n",
    "print(\"Descripción de la longitud de los comentarios:\")\n",
    "print(df['length'].describe())\n",
    "\n",
    "plt.figure(figsize=(8, 4))\n",
    "sns.histplot(df['length'], bins=30)\n",
    "plt.title('Distribución de la Longitud de los Comentarios')\n",
    "plt.xlabel('Longitud de Comentarios')\n",
    "plt.ylabel('Frecuencia')\n",
    "plt.show()"
   ]
  },
  {
   "cell_type": "markdown",
   "metadata": {},
   "source": [
    "* La longitud de los comentarios en promedio es de 297 caracteres.\n",
    "* Hay un total de 541462 comentarios.\n",
    "*  Hay una variabilidad significativa en la longitud de los comentarios con una desviación estándar de aproximadamente 270 caracteres.\n",
    "*  La distribución está sesgada hacia la derecha, lo que significa que hay menos comentarios largos, pero estos podrían ser muy extensos."
   ]
  },
  {
   "cell_type": "markdown",
   "metadata": {},
   "source": [
    "## Punto 1 - Tokenización con CountVectorizer\n",
    "\n",
    "En la celda 1 creen y entrenen el modelo de regresión de su preferencia, para que prediga la probabilidad de que un comentario sea tóxico, usando los set de entrenamiento y test definidos anteriormente. Usen la función **CountVectorizer** para preprocesar los comentarios y presenten el desempeño del modelo con la métrica del MSE.\n",
    "\n",
    "Recuerden que el preprocesamiento que se haga sobre los datos de entrenamiento  (*.fit_transform()*) deben ser aplicado al set de test (*.transform()*)."
   ]
  },
  {
   "cell_type": "code",
   "execution_count": 10,
   "metadata": {},
   "outputs": [],
   "source": [
    "def evaluar_modelos(X_train, X_test, y_train, y_test, modelos):\n",
    "    resultados = {}\n",
    "    for nombre, modelo in modelos.items():\n",
    "        modelo.fit(X_train, y_train)\n",
    "        y_pred = modelo.predict(X_test)\n",
    "        \n",
    "        mse = mean_squared_error(y_test, y_pred)\n",
    "        \n",
    "        resultados[nombre] = {'modelo': modelo, 'mse': mse}\n",
    "    \n",
    "    mejor_modelo = min(resultados, key=lambda x: resultados[x]['mse'])\n",
    "    \n",
    "    return resultados, mejor_modelo"
   ]
  },
  {
   "cell_type": "code",
   "execution_count": 11,
   "metadata": {},
   "outputs": [
    {
     "name": "stdout",
     "output_type": "stream",
     "text": [
      "Modelo: Regresión Lineal, MSE: 0.03715971674789688\n",
      "Modelo: Ridge, MSE: 0.03165206668054347\n",
      "Modelo: Lasso, MSE: 0.03903365870182593\n",
      "Modelo: Árbol de Decisión, MSE: 0.033516160074976306\n",
      "\n",
      "Mejor modelo: Ridge, MSE: 0.03165206668054347\n"
     ]
    }
   ],
   "source": [
    "vectorizador = CountVectorizer()\n",
    "x_train_t = vectorizador.fit_transform(X_train)\n",
    "X_test_t = vectorizador.transform(X_test)\n",
    "\n",
    "modelos = {\n",
    "    'Regresión Lineal': LinearRegression(),\n",
    "    'Ridge': Ridge(alpha=0.1),\n",
    "    'Lasso': Lasso(alpha=0.1),\n",
    "    'Árbol de Decisión': DecisionTreeRegressor()\n",
    "}\n",
    "\n",
    "# Aplicar la función\n",
    "resultados, mejor_modelo = evaluar_modelos(x_train_t, X_test_t, y_train, y_test, modelos)\n",
    "\n",
    "# Imprimir resultados\n",
    "for modelo, resultado in resultados.items():\n",
    "    print(f\"Modelo: {modelo}, MSE: {resultado['mse']}\")\n",
    "    \n",
    "print(f\"\\nMejor modelo: {mejor_modelo}, MSE: {resultados[mejor_modelo]['mse']}\")\n",
    "\n"
   ]
  },
  {
   "cell_type": "markdown",
   "metadata": {},
   "source": [
    "Para seleccionar el modelo adecuado, se realizó una funcion para probar distinos modelos como son: Regresión lineal, Ridge, Lass y arboles de decisión.\n",
    "\n",
    "A partide esto se pudo encontrar que el mejo MSE es para el modelo Ridge, por lo que se selecciona por su mejor desempeño."
   ]
  },
  {
   "cell_type": "code",
   "execution_count": 12,
   "metadata": {},
   "outputs": [
    {
     "name": "stdout",
     "output_type": "stream",
     "text": [
      "Alpha: 0.01, MSE: 0.03608946836610675\n",
      "Alpha: 0.1, MSE: 0.03165206668054347\n",
      "Alpha: 1, MSE: 0.02612748021402119\n",
      "Alpha: 10, MSE: 0.023243455529348332\n",
      "Alpha: 100, MSE: 0.02275087423155133\n",
      "\n",
      "Mejor alpha: 100, MSE: 0.02275087423155133\n"
     ]
    }
   ],
   "source": [
    "def evaluar_modelos_con_alpha(X_train, X_test, y_train, y_test, alphas):\n",
    "    resultados = {}\n",
    "    for alpha in alphas:\n",
    "        modelo = Ridge(alpha=alpha)\n",
    "        modelo.fit(X_train, y_train)\n",
    "        y_pred = modelo.predict(X_test)\n",
    "        mse = mean_squared_error(y_test, y_pred)\n",
    "        resultados[alpha] = {'modelo': modelo, 'mse': mse}\n",
    "    \n",
    "    mejor_alpha = min(resultados, key=lambda x: resultados[x]['mse'])\n",
    "    \n",
    "    return resultados, mejor_alpha\n",
    "\n",
    "alphas = [0.01, 0.1, 1, 10, 100]\n",
    "\n",
    "resultados_alpha, mejor_alpha = evaluar_modelos_con_alpha(x_train_t, X_test_t, y_train, y_test, alphas)\n",
    "\n",
    "for alpha, resultado in resultados_alpha.items():\n",
    "    print(f\"Alpha: {alpha}, MSE: {resultado['mse']}\")\n",
    "\n",
    "print(f\"\\nMejor alpha: {mejor_alpha}, MSE: {resultados_alpha[mejor_alpha]['mse']}\")"
   ]
  },
  {
   "cell_type": "markdown",
   "metadata": {},
   "source": [
    "Se realiza función para determinar el ajuste del alpha, que en este caso dió 100."
   ]
  },
  {
   "cell_type": "code",
   "execution_count": 13,
   "metadata": {},
   "outputs": [
    {
     "name": "stdout",
     "output_type": "stream",
     "text": [
      "Error Cuadrático Medio (MSE): 0.02275087423155133\n"
     ]
    }
   ],
   "source": [
    "modelo = Ridge(alpha = 100)\n",
    "modelo.fit(x_train_t, y_train)\n",
    "\n",
    "y_pred = modelo.predict(X_test_t)\n",
    "\n",
    "mse = mean_squared_error(y_test, y_pred)\n",
    "print(f\"Error Cuadrático Medio (MSE): {mse}\")"
   ]
  },
  {
   "cell_type": "markdown",
   "metadata": {},
   "source": [
    "## Punto 2 - Tokenización con CountVectorizer y trigramas\n",
    "\n",
    "En la celda 2 creen y entrenen el mismo modelo de regresión del punto anterior (es decir si usaron un RandomForestRegresor usen nuevamente ese regresor), para que prediga la probabilidad de que un comentario sea tóxico, usando los set de entrenamiento y test definidos anteriormente. Usen la función CountVectorizer **considerando trigramas** para preprocesar los comentarios y presenten el desempeño del modelo con la métrica del MSE.\n",
    "\n",
    "Recuerden que el preprocesamiento que se haga sobre los datos de entrenamiento  (*.fit_transform()*) deben ser aplicado al set de test (*.transform()*)."
   ]
  },
  {
   "cell_type": "code",
   "execution_count": 14,
   "metadata": {},
   "outputs": [
    {
     "name": "stdout",
     "output_type": "stream",
     "text": [
      "Error Cuadrático Medio (MSE): 0.02275087423155133\n"
     ]
    }
   ],
   "source": [
    "# Celda 2\n",
    "vectorizador_2 = CountVectorizer(ngram_range=(3, 3))\n",
    "x_train_t_2 = vectorizador.fit_transform(X_train)\n",
    "X_test_t_2 = vectorizador.transform(X_test)\n",
    "\n",
    "modelo_2 =  Ridge(alpha=100)\n",
    "modelo_2.fit(x_train_t_2, y_train)\n",
    "\n",
    "y_pred_2 = modelo.predict(X_test_t_2)\n",
    "\n",
    "mse_2 = mean_squared_error(y_test, y_pred_2)\n",
    "print(f\"Error Cuadrático Medio (MSE): {mse_2}\")\n"
   ]
  },
  {
   "cell_type": "markdown",
   "metadata": {},
   "source": [
    "Al realizar la comparación con el ejercicio anterior se puede encontrar que el mse es el mismo, por lo que el uso particular de trigramas no mejoró el comportamiento del modelo."
   ]
  },
  {
   "cell_type": "markdown",
   "metadata": {},
   "source": [
    "## Punto 3 - TfidfVectorizer\n",
    "\n",
    "Investigen sobre la función TfidfVectorizer. En la celda de texto 3, expliquen en qué consiste esta técnica de tokenización (describanla y expliquen su funcionamiento) y cúales son las ventajas o deventajas de su uso al compararlo con la función CountVectorizer."
   ]
  },
  {
   "cell_type": "markdown",
   "metadata": {},
   "source": [
    "## TfidfVectorizer\n",
    "TF-IDF (Frecuencia de término Frecuencia de documento inversa) Esta medida ayuda a evaluar la importancia de una palabra dentro de un documento en relación a documentos. \n",
    "\n",
    "La función se divide en dos partes: \n",
    "* TF: Frecuencia de términos (Term Frequency): Es la frecuencia de un término en un documento en específico, se calcula como la cantidad de veces que un término aparece en el documento divido por el total de términos que tiene el documento.\n",
    "* IDF: Frecuencia inversa de documento (Inverse Document Frequency): Ayuda a disminuir el peso de los términos que se repiten mucho y aumenta el peso de los términos que no aparecen frecuentemente. Se calcula como el logaritmo del número total de documentos dividido por el número de documentos que contienen el término.\n",
    "\n",
    "### Ventajas:\n",
    "* Debido a que ayuda a darle un menor peso a las palabras más comunes y un mayor peso a las palabras únicas se mejora la precisión de la clasificación.\n",
    "* Ayuda a identificar las palabras diferentes en el documento, se diferencia en que no solo realiza el conteo de las palabras, sino que considera el valor único del término en el documento.\n",
    "\n",
    "### Desventajas:\n",
    "* El algoritmo suele ser más pesado debido a que a diferencia de CountVectorizer que solo cuenta la presencia de los términos\n",
    "* Riesgo en perdida de la información debido a que el algoritmo discrimina las palabras más comunes.\n",
    "\n"
   ]
  },
  {
   "cell_type": "markdown",
   "metadata": {},
   "source": [
    "## Punto 4 - Tokenización con TfidfVectorizer\n",
    "\n",
    "En la celda 4 creen y entrenen el mismo modelo de regresión del primer punto, para que prediga la probabilidad de que un comentario sea tóxico, usando los set de entrenamiento y test definidos anteriormente. Procesen los comentarios con la función **TfidfVectorizer** y presenten el desempeño del modelo con la métrica del MSE.\n",
    "\n",
    "Recuerden que el preprocesamiento que se haga sobre los datos de entrenamiento  (*.fit_transform()*) deben ser aplicado al set de test (*.transform()*)."
   ]
  },
  {
   "cell_type": "code",
   "execution_count": 15,
   "metadata": {},
   "outputs": [
    {
     "name": "stdout",
     "output_type": "stream",
     "text": [
      "MSE: 0.02574520587688317\n"
     ]
    }
   ],
   "source": [
    "# Celda 4\n",
    "tfi_vector = TfidfVectorizer()\n",
    "X_train_tf = tfi_vector.fit_transform(X_train)\n",
    "X_test_tf = tfi_vector.transform(X_test)\n",
    "\n",
    "modelo_3 = Ridge(alpha=100)\n",
    "modelo_3.fit(X_train_tf, y_train)\n",
    "\n",
    "y_pred_3 = modelo_3.predict(X_test_tf)\n",
    "mse_3 = mean_squared_error(y_test, y_pred_3)\n",
    "print(\"MSE:\", mse_3)\n"
   ]
  },
  {
   "cell_type": "markdown",
   "metadata": {},
   "source": [
    "## Punto 5 - Comparación y análisis de resultados\n",
    "\n",
    "En la celda 5 comparen los resultados obtenidos de los diferentes modelos y comenten cómo el preprocesamiento de texto afecta el desempeño."
   ]
  },
  {
   "cell_type": "code",
   "execution_count": 16,
   "metadata": {
    "scrolled": true
   },
   "outputs": [
    {
     "data": {
      "image/png": "[encoded data removed]",
      "text/plain": [
       "<Figure size 864x360 with 1 Axes>"
      ]
     },
     "metadata": {},
     "output_type": "display_data"
    }
   ],
   "source": [
    "# Celda 5\n",
    "def compararModelos(models, data, score):\n",
    "    better = min(data)\n",
    "    colores = ['#87CEEB' if value != better else '#6B8E23' for value in data]\n",
    "    fig, ax = plt.subplots(figsize=(12,5))\n",
    "    bar = ax.bar(models, data, linewidth=0.8, color=colores, edgecolor=\"silver\")\n",
    "    ax.set_title(\"Comparación del desempeño de los modelos\")\n",
    "    ax.set_xlabel(\"Descripción del modelo\")\n",
    "    ax.set_ylabel(score)\n",
    "    bar_labels = [f'{value:.3f}' for value in data] \n",
    "    ax.bar_label(bar, bar_labels, label_type='center', padding=20)\n",
    "    ax.spines[\"top\"].set_visible(False)\n",
    "    ax.spines[\"right\"].set_visible(False)\n",
    "    ax.set_facecolor(\"whitesmoke\")\n",
    "    ax.spines[\"left\"].set_color(\"gray\")\n",
    "    ax.spines[\"bottom\"].set_color(\"gray\")\n",
    "    ax.tick_params(axis='x', labelsize=8)\n",
    "    plt.gca().yaxis.set_major_formatter('{:,.5f}'.format)\n",
    "    plt.tight_layout()\n",
    "    plt.show()\n",
    "\n",
    "modelos = [\"CountVectorizer\", \"Count - trigramas\",\"TfidfVectorizer\"]\n",
    "mses = [mse,mse_2,mse_3]\n",
    "\n",
    "compararModelos(modelos, mses, \"MSE\")"
   ]
  },
  {
   "cell_type": "markdown",
   "metadata": {},
   "source": [
    "### Resultados: \n",
    "\n",
    "Al usar el efecto de los trigramas se pudo observar que no hubo una mejora en el desempeño del modelo, lo que puede indicar que la mayor parte de los patrones de toxicidad en los comentarios se pueden caputar sin tener que tomar secuencias mas largas de las palabras.\n",
    "\n",
    "Al comparar los tres modelos se puede observar que para TfidfVectorizer se dió una mejora altamente significativa en comparación con la función CountVectorizer de unigramas y trigramas. Con esto se concluye que la toxicidad en comentarios está más presente por palabras menos frecuentes pero con un significado bastante alto.\n",
    "\n"
   ]
  }
 ],
 "metadata": {
  "kernelspec": {
   "display_name": "Python 3 (Spyder)",
   "language": "python3",
   "name": "python3"
  },
  "language_info": {
   "codemirror_mode": {
    "name": "ipython",
    "version": 3
   },
   "file_extension": ".py",
   "mimetype": "text/x-python",
   "name": "python",
   "nbconvert_exporter": "python",
   "pygments_lexer": "ipython3",
   "version": "3.11.5"
  },
  "name": "_merged"
 },
 "nbformat": 4,
 "nbformat_minor": 4
}
