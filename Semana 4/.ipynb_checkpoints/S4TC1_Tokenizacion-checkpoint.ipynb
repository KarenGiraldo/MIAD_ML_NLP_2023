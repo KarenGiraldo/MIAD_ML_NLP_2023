{
 "cells": [
  {
   "cell_type": "markdown",
   "metadata": {},
   "source": [
    "![image info](https://raw.githubusercontent.com/albahnsen/MIAD_ML_and_NLP/main/images/banner_1.png)"
   ]
  },
  {
   "cell_type": "markdown",
   "metadata": {},
   "source": [
    "# Taller: Tokenización de textos  \n",
    "\n",
    "En este taller podrán poner en práctica sus conocimientos sobre preprocesamiento de texto (tokenización). El taller está constituido por 5 puntos, en los cuales deberan seguir las intrucciones de cada numeral para su desarrollo."
   ]
  },
  {
   "cell_type": "markdown",
   "metadata": {},
   "source": [
    "## Datos detección de toxicidad en comentarios\n",
    "\n",
    "En este taller se usará el conjunto de datos de detección de toxicidad en comentarios de la base de datos de Kaggle. Cada observación es un comentario que tiene como variable objetivo (target) la probabilidad de ser un comentario tóxico. El objetivo es predecir la toxicidad de cada comentario. Para más detalles pueden visitar el siguiente enlace: [datos](https://www.kaggle.com/c/jigsaw-unintended-bias-in-toxicity-classification/data)."
   ]
  },
  {
   "cell_type": "code",
   "execution_count": 19,
   "metadata": {},
   "outputs": [],
   "source": [
    "import warnings\n",
    "warnings.filterwarnings('ignore')"
   ]
  },
  {
   "cell_type": "code",
   "execution_count": 20,
   "metadata": {},
   "outputs": [],
   "source": [
    "# Importación librerías\n",
    "import pandas as pd\n",
    "import numpy as np\n",
    "import scipy as sp\n",
    "from sklearn.model_selection import train_test_split, cross_val_score\n",
    "from sklearn.feature_extraction.text import CountVectorizer, TfidfVectorizer\n",
    "from sklearn import metrics\n",
    "%matplotlib inline\n",
    "from sklearn.metrics import mean_squared_error\n",
    "from sklearn.linear_model import Ridge\n",
    "import seaborn as sns\n",
    "from sklearn.linear_model import LinearRegression, Ridge, Lasso\n",
    "from sklearn.tree import DecisionTreeRegressor\n",
    "from sklearn.ensemble import RandomForestRegressor\n"
   ]
  },
  {
   "cell_type": "code",
   "execution_count": 21,
   "metadata": {},
   "outputs": [
    {
     "data": {
      "text/html": [
       "<div>\n",
       "<style scoped>\n",
       "    .dataframe tbody tr th:only-of-type {\n",
       "        vertical-align: middle;\n",
       "    }\n",
       "\n",
       "    .dataframe tbody tr th {\n",
       "        vertical-align: top;\n",
       "    }\n",
       "\n",
       "    .dataframe thead th {\n",
       "        text-align: right;\n",
       "    }\n",
       "</style>\n",
       "<table border=\"1\" class=\"dataframe\">\n",
       "  <thead>\n",
       "    <tr style=\"text-align: right;\">\n",
       "      <th></th>\n",
       "      <th>id</th>\n",
       "      <th>comment_text</th>\n",
       "      <th>target</th>\n",
       "    </tr>\n",
       "  </thead>\n",
       "  <tbody>\n",
       "    <tr>\n",
       "      <th>0</th>\n",
       "      <td>6101457</td>\n",
       "      <td>What are you talking about? What group do Pete...</td>\n",
       "      <td>0.0</td>\n",
       "    </tr>\n",
       "    <tr>\n",
       "      <th>1</th>\n",
       "      <td>5342103</td>\n",
       "      <td>NO!, Let him, we need a Conservative government.</td>\n",
       "      <td>0.0</td>\n",
       "    </tr>\n",
       "    <tr>\n",
       "      <th>2</th>\n",
       "      <td>743361</td>\n",
       "      <td>Perhaps he took the \"power out of the Cardinal...</td>\n",
       "      <td>0.2</td>\n",
       "    </tr>\n",
       "    <tr>\n",
       "      <th>3</th>\n",
       "      <td>551008</td>\n",
       "      <td>As always, yours is dripping with sarcasm, whi...</td>\n",
       "      <td>0.0</td>\n",
       "    </tr>\n",
       "    <tr>\n",
       "      <th>4</th>\n",
       "      <td>865998</td>\n",
       "      <td>The dirty little secret is that the price rang...</td>\n",
       "      <td>0.3</td>\n",
       "    </tr>\n",
       "  </tbody>\n",
       "</table>\n",
       "</div>"
      ],
      "text/plain": [
       "        id                                       comment_text  target\n",
       "0  6101457  What are you talking about? What group do Pete...     0.0\n",
       "1  5342103   NO!, Let him, we need a Conservative government.     0.0\n",
       "2   743361  Perhaps he took the \"power out of the Cardinal...     0.2\n",
       "3   551008  As always, yours is dripping with sarcasm, whi...     0.0\n",
       "4   865998  The dirty little secret is that the price rang...     0.3"
      ]
     },
     "execution_count": 21,
     "metadata": {},
     "output_type": "execute_result"
    }
   ],
   "source": [
    "# Carga de datos de archivos .csv\n",
    "df = pd.read_csv('https://raw.githubusercontent.com/albahnsen/MIAD_ML_and_NLP/main/datasets/Toxicity.zip')\n",
    "df = df[['id','comment_text', 'target']]\n",
    "df.head()"
   ]
  },
  {
   "cell_type": "code",
   "execution_count": 22,
   "metadata": {},
   "outputs": [
    {
     "data": {
      "text/plain": [
       "(541462, 3)"
      ]
     },
     "execution_count": 22,
     "metadata": {},
     "output_type": "execute_result"
    }
   ],
   "source": [
    "df.shape"
   ]
  },
  {
   "cell_type": "code",
   "execution_count": 23,
   "metadata": {
    "scrolled": true
   },
   "outputs": [
    {
     "data": {
      "text/plain": [
       "<Axes: >"
      ]
     },
     "execution_count": 23,
     "metadata": {},
     "output_type": "execute_result"
    },
    {
     "data": {
      "image/png": "[encoded data removed]",
      "text/plain": [
       "<Figure size 432x288 with 1 Axes>"
      ]
     },
     "metadata": {},
     "output_type": "display_data"
    }
   ],
   "source": [
    "# Impresión histograma de variable de interés (y)\n",
    "df.target.hist()"
   ]
  },
  {
   "cell_type": "markdown",
   "metadata": {},
   "source": [
    "Se puede observar que la distribución se encuentra desbalanceada, por lo que se puede decir que la distribución de los comentarios toxicos es muy baja."
   ]
  },
  {
   "cell_type": "code",
   "execution_count": 24,
   "metadata": {
    "scrolled": true
   },
   "outputs": [
    {
     "data": {
      "text/plain": [
       "count    541462.000000\n",
       "mean          0.102991\n",
       "std           0.196979\n",
       "min           0.000000\n",
       "25%           0.000000\n",
       "50%           0.000000\n",
       "75%           0.166667\n",
       "max           1.000000\n",
       "Name: target, dtype: float64"
      ]
     },
     "execution_count": 24,
     "metadata": {},
     "output_type": "execute_result"
    }
   ],
   "source": [
    "# Separación de variable de interés (y)\n",
    "y = df.target\n",
    "y.describe()"
   ]
  },
  {
   "cell_type": "code",
   "execution_count": 25,
   "metadata": {},
   "outputs": [],
   "source": [
    "# Separación de variables predictoras (X), solo se considera el texto de la noticia\n",
    "X = df.comment_text"
   ]
  },
  {
   "cell_type": "code",
   "execution_count": 26,
   "metadata": {},
   "outputs": [],
   "source": [
    "# Separación de datos en set de entrenamiento y test\n",
    "X_train, X_test, y_train, y_test = train_test_split(X, y, test_size=0.33, random_state=42)"
   ]
  },
  {
   "cell_type": "code",
   "execution_count": 27,
   "metadata": {},
   "outputs": [
    {
     "name": "stdout",
     "output_type": "stream",
     "text": [
      "Descripción de la longitud de los comentarios:\n",
      "count    541462.000000\n",
      "mean        297.391015\n",
      "std         269.486412\n",
      "min           1.000000\n",
      "25%          94.000000\n",
      "50%         202.000000\n",
      "75%         414.000000\n",
      "max        1737.000000\n",
      "Name: length, dtype: float64\n"
     ]
    },
    {
     "data": {
      "image/png": "[encoded data removed]",
      "text/plain": [
       "<Figure size 576x288 with 1 Axes>"
      ]
     },
     "metadata": {},
     "output_type": "display_data"
    }
   ],
   "source": [
    "df['length'] = df['comment_text'].str.len()\n",
    "print(\"Descripción de la longitud de los comentarios:\")\n",
    "print(df['length'].describe())\n",
    "\n",
    "plt.figure(figsize=(8, 4))\n",
    "sns.histplot(df['length'], bins=30)\n",
    "plt.title('Distribución de la Longitud de los Comentarios')\n",
    "plt.xlabel('Longitud de Comentarios')\n",
    "plt.ylabel('Frecuencia')\n",
    "plt.show()"
   ]
  },
  {
   "cell_type": "markdown",
   "metadata": {},
   "source": [
    "* La longitud de los comentarios en promedio es de 297 caracteres.\n",
    "* Hay un total de 541462 comentarios.\n",
    "*  Hay una variabilidad significativa en la longitud de los comentarios con una desviación estándar de aproximadamente 270 caracteres.\n",
    "*  La distribución está sesgada hacia la derecha, lo que significa que hay menos comentarios largos, pero estos podrían ser muy extensos."
   ]
  },
  {
   "cell_type": "markdown",
   "metadata": {},
   "source": [
    "## Punto 1 - Tokenización con CountVectorizer\n",
    "\n",
    "En la celda 1 creen y entrenen el modelo de regresión de su preferencia, para que prediga la probabilidad de que un comentario sea tóxico, usando los set de entrenamiento y test definidos anteriormente. Usen la función **CountVectorizer** para preprocesar los comentarios y presenten el desempeño del modelo con la métrica del MSE.\n",
    "\n",
    "Recuerden que el preprocesamiento que se haga sobre los datos de entrenamiento  (*.fit_transform()*) deben ser aplicado al set de test (*.transform()*)."
   ]
  },
  {
   "cell_type": "code",
   "execution_count": 28,
   "metadata": {},
   "outputs": [],
   "source": [
    "def evaluar_modelos(X_train, X_test, y_train, y_test, modelos):\n",
    "    resultados = {}\n",
    "    for nombre, modelo in modelos.items():\n",
    "        modelo.fit(X_train, y_train)\n",
    "        y_pred = modelo.predict(X_test)\n",
    "        \n",
    "        mse = mean_squared_error(y_test, y_pred)\n",
    "        \n",
    "        resultados[nombre] = {'modelo': modelo, 'mse': mse}\n",
    "    \n",
    "    mejor_modelo = min(resultados, key=lambda x: resultados[x]['mse'])\n",
    "    \n",
    "    return resultados, mejor_modelo"
   ]
  },
  {
   "cell_type": "code",
   "execution_count": 29,
   "metadata": {},
   "outputs": [],
   "source": [
    "vectorizador = CountVectorizer()\n",
    "x_train_t = vectorizador.fit_transform(X_train)\n",
    "X_test_t = vectorizador.transform(X_test)"
   ]
  },
  {
   "cell_type": "code",
   "execution_count": 12,
   "metadata": {},
   "outputs": [
    {
     "name": "stdout",
     "output_type": "stream",
     "text": [
      "Modelo: Regresión Lineal, MSE: 0.03715971674789688\n",
      "Modelo: Ridge, MSE: 0.03165206668054347\n",
      "Modelo: Lasso, MSE: 0.03903365870182593\n",
      "Modelo: Árbol de Decisión, MSE: 0.03354955586483143\n",
      "\n",
      "Mejor modelo: Ridge, MSE: 0.03165206668054347\n"
     ]
    }
   ],
   "source": [
    "#modelos = {\n",
    "#    'Regresión Lineal': LinearRegression(),\n",
    "#    'Ridge': Ridge(alpha=0.1),\n",
    "#    'Lasso': Lasso(alpha=0.1),\n",
    "#    'Árbol de Decisión': DecisionTreeRegressor()\n",
    "#}\n",
    "\n",
    "# Aplicar la función\n",
    "#resultados, mejor_modelo = evaluar_modelos(x_train_t, X_test_t, y_train, y_test, modelos)\n",
    "\n",
    "# Imprimir resultados\n",
    "#for modelo, resultado in resultados.items():\n",
    "#    print(f\"Modelo: {modelo}, MSE: {resultado['mse']}\")\n",
    "    \n",
    "#print(f\"\\nMejor modelo: {mejor_modelo}, MSE: {resultados[mejor_modelo]['mse']}\")\n",
    "\n"
   ]
  },
  {
   "cell_type": "markdown",
   "metadata": {},
   "source": [
    "Para seleccionar el modelo adecuado, se realizó una funcion para probar distinos modelos como son: Regresión lineal, Ridge, Lasso y arboles de decisión. Se obtuvieron los siguientes resultados:\n",
    "\n",
    "* Modelo: Regresión Lineal, MSE: 0.03715971674789688\n",
    "* Modelo: Ridge, MSE: 0.03165206668054347\n",
    "* Modelo: Lasso, MSE: 0.03903365870182593\n",
    "* Modelo: Árbol de Decisión, MSE: 0.033516160074976306\n",
    "\n",
    "A parti de esto se pudo encontrar que el mejo MSE es para el modelo Ridge, por lo que se selecciona por su mejor desempeño."
   ]
  },
  {
   "cell_type": "code",
   "execution_count": 30,
   "metadata": {},
   "outputs": [
    {
     "name": "stdout",
     "output_type": "stream",
     "text": [
      "Alpha: 0.01, MSE: 0.03608946836610675\n",
      "Alpha: 0.1, MSE: 0.03165206668054347\n",
      "Alpha: 1, MSE: 0.02612748021402119\n",
      "Alpha: 10, MSE: 0.023243455529348332\n",
      "Alpha: 100, MSE: 0.02275087423155133\n",
      "\n",
      "Mejor alpha: 100, MSE: 0.02275087423155133\n"
     ]
    }
   ],
   "source": [
    "def evaluar_modelos_con_alpha(X_train, X_test, y_train, y_test, alphas):\n",
    "    resultados = {}\n",
    "    for alpha in alphas:\n",
    "        modelo = Ridge(alpha=alpha)\n",
    "        modelo.fit(X_train, y_train)\n",
    "        y_pred = modelo.predict(X_test)\n",
    "        mse = mean_squared_error(y_test, y_pred)\n",
    "        resultados[alpha] = {'modelo': modelo, 'mse': mse}\n",
    "    \n",
    "    mejor_alpha = min(resultados, key=lambda x: resultados[x]['mse'])\n",
    "    \n",
    "    return resultados, mejor_alpha\n",
    "\n",
    "alphas = [0.01, 0.1, 1, 10, 100]\n",
    "\n",
    "resultados_alpha, mejor_alpha = evaluar_modelos_con_alpha(x_train_t, X_test_t, y_train, y_test, alphas)\n",
    "\n",
    "for alpha, resultado in resultados_alpha.items():\n",
    "    print(f\"Alpha: {alpha}, MSE: {resultado['mse']}\")\n",
    "\n",
    "print(f\"\\nMejor alpha: {mejor_alpha}, MSE: {resultados_alpha[mejor_alpha]['mse']}\")"
   ]
  },
  {
   "cell_type": "markdown",
   "metadata": {},
   "source": [
    "Se realiza función para determinar el ajuste del alpha, que en este caso dió 100."
   ]
  },
  {
   "cell_type": "code",
   "execution_count": 31,
   "metadata": {},
   "outputs": [
    {
     "name": "stdout",
     "output_type": "stream",
     "text": [
      "Error Cuadrático Medio (MSE): 0.02275087423155133\n"
     ]
    }
   ],
   "source": [
    "modelo = Ridge(alpha = 100)\n",
    "modelo.fit(x_train_t, y_train)\n",
    "\n",
    "y_pred = modelo.predict(X_test_t)\n",
    "\n",
    "mse = mean_squared_error(y_test, y_pred)\n",
    "print(f\"Error Cuadrático Medio (MSE): {mse}\")"
   ]
  },
  {
   "cell_type": "markdown",
   "metadata": {},
   "source": [
    "Se usa CountVectorizer para convertir el texto a una matriz de tokens, se obtiene un mse de 0.022"
   ]
  },
  {
   "cell_type": "markdown",
   "metadata": {},
   "source": [
    "## Punto 2 - Tokenización con CountVectorizer y trigramas\n",
    "\n",
    "En la celda 2 creen y entrenen el mismo modelo de regresión del punto anterior (es decir si usaron un RandomForestRegresor usen nuevamente ese regresor), para que prediga la probabilidad de que un comentario sea tóxico, usando los set de entrenamiento y test definidos anteriormente. Usen la función CountVectorizer **considerando trigramas** para preprocesar los comentarios y presenten el desempeño del modelo con la métrica del MSE.\n",
    "\n",
    "Recuerden que el preprocesamiento que se haga sobre los datos de entrenamiento  (*.fit_transform()*) deben ser aplicado al set de test (*.transform()*)."
   ]
  },
  {
   "cell_type": "code",
   "execution_count": 32,
   "metadata": {},
   "outputs": [
    {
     "name": "stdout",
     "output_type": "stream",
     "text": [
      "Error Cuadrático Medio (MSE): 0.035523825940305113\n"
     ]
    }
   ],
   "source": [
    "# Celda 2\n",
    "vectorizador_2 = CountVectorizer(ngram_range=(3, 3))\n",
    "x_train_t_2 = vectorizador_2.fit_transform(X_train)\n",
    "X_test_t_2 = vectorizador_2.transform(X_test)\n",
    "\n",
    "modelo_2 =  Ridge(alpha=100)\n",
    "modelo_2.fit(x_train_t_2, y_train)\n",
    "\n",
    "y_pred_2 = modelo_2.predict(X_test_t_2)\n",
    "\n",
    "mse_2 = mean_squared_error(y_test, y_pred_2)\n",
    "print(f\"Error Cuadrático Medio (MSE): {mse_2}\")\n"
   ]
  },
  {
   "cell_type": "markdown",
   "metadata": {},
   "source": [
    "## Punto 3 - TfidfVectorizer\n",
    "\n",
    "Investigen sobre la función TfidfVectorizer. En la celda de texto 3, expliquen en qué consiste esta técnica de tokenización (describanla y expliquen su funcionamiento) y cúales son las ventajas o deventajas de su uso al compararlo con la función CountVectorizer."
   ]
  },
  {
   "cell_type": "markdown",
   "metadata": {},
   "source": [
    "## TfidfVectorizer\n",
    "La función TfidVectorizer TF-IDF (Frecuencia de término Frecuencia de documento inversa) de forma similar CountVectorizer entrega una matriz con los tokens del input. Sin embargo, CountVectorizer genera la matriz con los tokens únicos y un conteo de la cantidad de veces que aparecen en todo el input, por lo que asigna la misma importancia a todos los tokens, dando mayor peso aquellas palabras que mas se repitan. Esto, en muchos casos puede ser negativo, ya que se le da mas peso a palabras de alta frecuencia pero de poco valor explicativo como conectores como: de,en,se,etc. Por otro lado con el fin de evitar este problema la función TfidVectorizer crea una medida que ayuda a evaluar la importancia de una palabra dentro de un documento, para hacerlo implementa dos segmentos en su ejecución. \n",
    "\n",
    "* TF: Frecuencia de términos (Term Frequency): Es la frecuencia de un término en un documento en específico, se calcula como la cantidad de veces que un término aparece en el documento divido por el total de términos que tiene el documento.\n",
    "    * $$TF = \\frac{\\text{Número de repeticiones de la palabra en la oración}}{\\text{Número de palabras en la oración}}$$\n",
    "\n",
    "* IDF: Frecuencia inversa de documento (Inverse Document Frequency): Ayuda a disminuir el peso de los términos que se repiten mucho y aumenta el peso de los términos que no aparecen frecuentemente. Se calcula como el logaritmo del número total de documentos dividido por el número de documentos que contienen el término De esta forma se centra en la importancia de una palabra en todo el cuerpo del documento.\n",
    "    * $$IDF = \\log\\left(\\frac{\\text{Número de líneas del documento}}{\\text{Número de líneas que contienen la palabra}}\\right)$$\n",
    "    * Otra forma de explicar IDF es que este término penaliza aquellas palabras más se repiten en el documento, esto porque se usa la función logaritmo en base 10, la cual es una función creciente, por lo que entre menos aparezca la palabra en todo el documento, mayor peso tendrá en este término, y entre más aparezca, más se acercara este término a 0.\n",
    "    * \n",
    "Finalmente, el valor que toma la palabra con el TfidfVectorizer corresponde al producto de estos dos términos. Por lo que al final el valor es una combinación de la frecuencia de las palabras dentro de cada línea y una penalización por el numero de repeticiones dentro de todas las líneas..\n",
    "\n",
    "### Ventajas:\n",
    "* Debido a que ayuda a darle un menor peso a las palabras más comun (incluso asignando un peso de cero a palabras muy generales como contectores que no agregan información a la predicción)es y un mayor peso a las palabracon menos repeticiones, reduce la complejidad del modelo y favorece su poder predictivo.\n",
    "* La penalización de las palabras comunes reduce el peso de palabras con poco valor informativo muy repetitivas como los conectores, mientras que, el CountVectorizer les da bastante peso a estas palabras simplemente por su alta frecuencia, lo que no siempre es bueno para el modelo.\n",
    "\n",
    "### Desventajas:\n",
    "* Suele tener mayor demanda computacional, ya que implica realizar cálculos más complejos que el simple conteo que realiza el CountVectorizer.\n",
    "* Riesgo en perdida de la información debido a que el algoritmo discrimina las palabras más comunes.\n",
    "* Puede no funcionar muy bien en conjuntos de datos pequeños y/ o muy  específicos. Por su algoritmo de funcionamiento puede llegar a asignar pesos de forma inadecuada debido a la escasez de datos y esto se ve aún más agravado cuando las palabras son muy infrecuentes y aparecen en muy pocas líneas. Es por esto que, tiende a funcionar mejor en conjuntos de datos grandes y con términos más generales que específicos."
   ]
  },
  {
   "cell_type": "markdown",
   "metadata": {},
   "source": [
    "## Punto 4 - Tokenización con TfidfVectorizer\n",
    "\n",
    "En la celda 4 creen y entrenen el mismo modelo de regresión del primer punto, para que prediga la probabilidad de que un comentario sea tóxico, usando los set de entrenamiento y test definidos anteriormente. Procesen los comentarios con la función **TfidfVectorizer** y presenten el desempeño del modelo con la métrica del MSE.\n",
    "\n",
    "Recuerden que el preprocesamiento que se haga sobre los datos de entrenamiento  (*.fit_transform()*) deben ser aplicado al set de test (*.transform()*)."
   ]
  },
  {
   "cell_type": "code",
   "execution_count": 33,
   "metadata": {},
   "outputs": [
    {
     "name": "stdout",
     "output_type": "stream",
     "text": [
      "Error Cuadrático Medio (MSE): 0.02574520587688317\n"
     ]
    }
   ],
   "source": [
    "# Celda 4\n",
    "tfi_vector = TfidfVectorizer()\n",
    "X_train_tf = tfi_vector.fit_transform(X_train)\n",
    "X_test_tf = tfi_vector.transform(X_test)\n",
    "\n",
    "modelo_3 = Ridge(alpha=100)\n",
    "modelo_3.fit(X_train_tf, y_train)\n",
    "\n",
    "y_pred_3 = modelo_3.predict(X_test_tf)\n",
    "mse_3 = mean_squared_error(y_test, y_pred_3)\n",
    "print(f\"Error Cuadrático Medio (MSE): {mse_3}\")"
   ]
  },
  {
   "cell_type": "markdown",
   "metadata": {},
   "source": [
    "## Punto 5 - Comparación y análisis de resultados\n",
    "\n",
    "En la celda 5 comparen los resultados obtenidos de los diferentes modelos y comenten cómo el preprocesamiento de texto afecta el desempeño."
   ]
  },
  {
   "cell_type": "code",
   "execution_count": 34,
   "metadata": {
    "scrolled": true
   },
   "outputs": [
    {
     "data": {
      "image/png": "[encoded data removed]",
      "text/plain": [
       "<Figure size 864x360 with 1 Axes>"
      ]
     },
     "metadata": {},
     "output_type": "display_data"
    }
   ],
   "source": [
    "# Celda 5\n",
    "def compararModelos(models, data, score):\n",
    "    better = min(data)\n",
    "    colores = ['#87CEEB' if value != better else '#6B8E23' for value in data]\n",
    "    fig, ax = plt.subplots(figsize=(12,5))\n",
    "    bar = ax.bar(models, data, linewidth=0.8, color=colores, edgecolor=\"silver\")\n",
    "    ax.set_title(\"Comparación del desempeño de los modelos\")\n",
    "    ax.set_xlabel(\"Descripción del modelo\")\n",
    "    ax.set_ylabel(score)\n",
    "    bar_labels = [f'{value:.3f}' for value in data] \n",
    "    ax.bar_label(bar, bar_labels, label_type='center', padding=20)\n",
    "    ax.spines[\"top\"].set_visible(False)\n",
    "    ax.spines[\"right\"].set_visible(False)\n",
    "    ax.set_facecolor(\"whitesmoke\")\n",
    "    ax.spines[\"left\"].set_color(\"gray\")\n",
    "    ax.spines[\"bottom\"].set_color(\"gray\")\n",
    "    ax.tick_params(axis='x', labelsize=8)\n",
    "    plt.gca().yaxis.set_major_formatter('{:,.5f}'.format)\n",
    "    plt.tight_layout()\n",
    "    plt.show()\n",
    "\n",
    "modelos = [\"CountVectorizer\", \"Count - trigramas\",\"TfidfVectorizer\"]\n",
    "mses = [mse,mse_2,mse_3]\n",
    "\n",
    "compararModelos(modelos, mses, \"MSE\")"
   ]
  },
  {
   "cell_type": "markdown",
   "metadata": {},
   "source": [
    "### Resultados: \n",
    "\n",
    "Es importante hacer énfasis en como los métodos de tokenización disponibilizan un abanico de opciones por medio de estructuras de datos que se componen principalmente de texto para el modelaje predictivo del lenguaje natural. \n",
    "\n",
    "Es decir, los datos implementados para realizar el modelo en el presente laboratorio poseen una estructura poco convencional y compleja de abordar sin realizar algún procedimiento de preprocesamiento de texto como la tokenización implementada. Así, se puede concluir que el proceso de tokenización es una herramienta efectiva y bastante útil que debe ser siempre considerada al momento de plantear un algoritmo predictivo en estructuras de datos basadas en texto.\n",
    "\n",
    "Como es posible observar, para este set de datos, el mejor modelo obtenido fue el modelo calibrado de regresión Ridge y con preprocesamiento de texto en los datos de entrenamiento y pruebas por medio de la función CountVectorizer usando los parámetros predeterminados de la función, este modelo obtiene el menor MSE comparados con el modelo de tokenización de trigramas y el modelo de tokenización usando la técnica de TF-IDF, siendo el peor desempeño el obtenido con trigramas.\n",
    "  \n",
    "Esto evidencia la influencia e importancia del preprocesamiento de texto previo a la implementación del modelo y como es importante también iterar sobre distintas posibilidades, hasta encontrar el preprocesamiento que asegure el mejor desempeño. Es decir, en ningún momento se asegura mejor desempeño a través de una función u otra, por lo que la elección de que función usar para tokenizar y los parámetros a usar en la función se convierten en un nuevo paso de calibración (además de los hiper parámetros regulares del modelo de predicción escogido). En este caso el preprocesamiento que nos aseguró un mejor desempeño fue el modelo más simple, sin embargo, no era intuitivo que así fuera y hubo la necesidad de comprobar la inferioridad en desempeño a través de otros hiper parámetros y funciones para hacer la selección.\n",
    "\n",
    "En este contexto la simplicidad del CountVectorizer resultó ser adecuada, es decir, los trigramas terminan siendo contraproducentes, la introducción de más contexto en este caso fue contraproducente, obteniendo el peor de los resultados por medio de este preprocesamiento; también lo fue la introducción de los pesos por medio de la función TfidVectorizer. Esto podría ser explicado porque los pesos se están distribuyendo de manera errónea y un contexto tan especifico seguramente existen palabras muy repetitivas en cada línea con alto valor explicativo que están siendo muy penalizadas, por lo que se les resta importancia al momento de predecir.\n"
   ]
  }
 ],
 "metadata": {
  "kernelspec": {
   "display_name": "Python 3 (Spyder)",
   "language": "python3",
   "name": "python3"
  },
  "language_info": {
   "codemirror_mode": {
    "name": "ipython",
    "version": 3
   },
   "file_extension": ".py",
   "mimetype": "text/x-python",
   "name": "python",
   "nbconvert_exporter": "python",
   "pygments_lexer": "ipython3",
   "version": "3.11.5"
  },
  "name": "_merged"
 },
 "nbformat": 4,
 "nbformat_minor": 4
}
