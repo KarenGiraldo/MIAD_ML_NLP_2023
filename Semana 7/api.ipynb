{
 "cells": [
  {
   "cell_type": "code",
   "execution_count": 1,
   "id": "aa0d1be5",
   "metadata": {},
   "outputs": [
    {
     "name": "stderr",
     "output_type": "stream",
     "text": [
      "C:\\Users\\jpmog\\anaconda3\\Lib\\site-packages\\keras\\src\\layers\\core\\dense.py:87: UserWarning: Do not pass an `input_shape`/`input_dim` argument to a layer. When using Sequential models, prefer using an `Input(shape)` object as the first layer in the model instead.\n",
      "  super().__init__(activity_regularizer=activity_regularizer, **kwargs)\n",
      "WARNING:absl:Compiled the loaded model, but the compiled metrics have yet to be built. `model.compile_metrics` will be empty until you train or evaluate the model.\n",
      "WARNING:absl:Error in loading the saved optimizer state. As a result, your model is starting with a freshly initialized optimizer.\n"
     ]
    }
   ],
   "source": [
    "import joblib\n",
    "import numpy as np\n",
    "from keras.models import load_model\n",
    "\n",
    "# Cargar el modelo entrenado y el CountVectorizer\n",
    "\n",
    "vect = joblib.load('vect.pkl')\n",
    "model = load_model('modelo.h5')\n",
    "\n",
    "# Función para predecir nuevos valores\n",
    "def predict_new_text(text):\n",
    "    # Transformar el nuevo texto con el CountVectorizer\n",
    "    text_transformed = vect.transform([text])\n",
    "    \n",
    "    # Convertir a array denso si el modelo espera datos densos\n",
    "    text_dense = text_transformed.toarray()\n",
    "    \n",
    "    # Hacer predicciones con el modelo cargado\n",
    "    prediction = model.predict(text_dense)\n",
    "    \n",
    "    umbral = 0.5\n",
    "    \n",
    "    # Encontrar los índices donde numeros es igual a 1\n",
    "    indices_1 = np.where(prediction >= umbral)[1]\n",
    "              \n",
    "    total_genres = len(indices_1)\n",
    "      \n",
    "    if total_genres == 0:\n",
    "        rta = 'No fue posible establecer el genero de la pelicula'\n",
    "    else:\n",
    "        generos = ['Action', 'Adventure', 'Animation', 'Biography', 'Comedy', 'Crime', 'Documentary', 'Drama', 'Family',\n",
    "        'Fantasy', 'Film-Noir', 'History', 'Horror', 'Music', 'Musical', 'Mystery', 'News', 'Romance',\n",
    "        'Sci-Fi', 'Short', 'Sport', 'Thriller', 'War', 'Western']\n",
    "                \n",
    "        # Obtener las palabras correspondientes a los índices encontrados\n",
    "        genero = [generos[i] for i in indices_1]\n",
    "        rta = f'Movie genres: {\", \".join(genero)}'\n",
    "\n",
    "    \n",
    "    return rta\n",
    "\n"
   ]
  },
  {
   "cell_type": "code",
   "execution_count": None,
   "id": "aae02093",
   "metadata": {},
   "outputs": [
    {
     "name": "stdout",
     "output_type": "stream",
     "text": [
      " * Serving Flask app '__main__'\n",
      " * Debug mode: on\n"
     ]
    },
    {
     "name": "stderr",
     "output_type": "stream",
     "text": [
      "INFO:werkzeug:\u001b[31m\u001b[1mWARNING: This is a development server. Do not use it in a production deployment. Use a production WSGI server instead.\u001b[0m\n",
      " * Running on all addresses (0.0.0.0)\n",
      " * Running on http://127.0.0.1:88\n",
      " * Running on http://192.168.68.63:88\n",
      "INFO:werkzeug:\u001b[33mPress CTRL+C to quit\u001b[0m\n"
     ]
    },
    {
     "name": "stdout",
     "output_type": "stream",
     "text": [
      "\u001b[1m1/1\u001b[0m \u001b[32m━━━━━━━━━━━━━━━━━━━━\u001b[0m\u001b[37m\u001b[0m \u001b[1m0s\u001b[0m 63ms/step\n"
     ]
    },
    {
     "name": "stderr",
     "output_type": "stream",
     "text": [
      "INFO:werkzeug:127.0.0.1 - - [26/May/2024 07:43:49] \"GET /predict/?Plot=a%20serial%20killer%20decides%20to%20teach%20the%20secrets%20of%20his%20satisfying%20career%20to%20a%20video%20store%20clerk%20. HTTP/1.1\" 200 -\n"
     ]
    }
   ],
   "source": [
    "from flask import Flask\n",
    "from flask_restx import Api, Resource, fields\n",
    "\n",
    "# Definición aplicación Flask\n",
    "app = Flask(__name__)\n",
    "\n",
    "# Definición API Flask\n",
    "api = Api(\n",
    "    app, \n",
    "    version='1.0', \n",
    "    title='Movie Genre Prediction',\n",
    "    description='used Movie Genre Prediction API')\n",
    "\n",
    "ns = api.namespace('predict', \n",
    "     description='genre prediction')\n",
    "\n",
    "# Definición argumentos o parámetros de la API\n",
    "parser = api.parser()\n",
    "\n",
    "parser.add_argument(\n",
    "    'Plot', \n",
    "    type=str, \n",
    "    required=True, \n",
    "    help='Movie description', \n",
    "    location='args')\n",
    "\n",
    "resource_fields = api.model('Resource', {\n",
    "    'result': fields.String,\n",
    "})\n",
    "\n",
    "\n",
    "# Definición de la clase para disponibilización\n",
    "@ns.route('/')\n",
    "class UsedCarPricePredictionAPI(Resource):\n",
    "\n",
    "    @api.doc(parser=parser)\n",
    "    @api.marshal_with(resource_fields)\n",
    "    def get(self):\n",
    "        args = parser.parse_args()        \n",
    "        prediction = predict_new_text(args['Plot'])\n",
    "        return {\"result\": prediction}, 200\n",
    "\n",
    "\n",
    "# Ejecución de la aplicación que disponibiliza el modelo de manera local en el puerto 5000\n",
    "app.run(debug=True, use_reloader=False, host='0.0.0.0', port=88)"
   ]
  },
  {
   "cell_type": "code",
   "execution_count": None,
   "id": "cce8ae50",
   "metadata": {},
   "outputs": [],
   "source": []
  }
 ],
 "metadata": {
  "kernelspec": {
   "display_name": "Python 3 (ipykernel)",
   "language": "python",
   "name": "python3"
  },
  "language_info": {
   "codemirror_mode": {
    "name": "ipython",
    "version": 3
   },
   "file_extension": ".py",
   "mimetype": "text/x-python",
   "name": "python",
   "nbconvert_exporter": "python",
   "pygments_lexer": "ipython3",
   "version": "3.11.7"
  }
 },
 "nbformat": 4,
 "nbformat_minor": 5
}
